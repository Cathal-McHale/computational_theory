{
 "cells": [
  {
   "cell_type": "markdown",
   "metadata": {},
   "source": [
    "## Task 1 Binary Representations\n",
    "# Binary Operations in Python\n",
    "\n",
    "This Jupyter Notebook explores fundamental binary operations in Python. \n",
    "We will implement functions for bitwise rotations, selection, and majority voting, \n",
    "all essential for cryptographic and low-level computing tasks.\n",
    "\n",
    "Links:\n",
    "- Bitwise operations in Python: https://realpython.com/python-bitwise-operators/\n",
    "- SHA-256 Bitwise Operations: https://en.wikipedia.org/wiki/SHA-2\n"
   ]
  },
  {
   "cell_type": "code",
   "execution_count": 5,
   "metadata": {},
   "outputs": [],
   "source": [
    "# Import required libraries\n",
    "import numpy as np"
   ]
  },
  {
   "cell_type": "markdown",
   "metadata": {},
   "source": [
    "## Left Rotation (rotl)\n",
    "This function rotates the bits of a 32-bit unsigned integer to the left by `n` places.\n",
    "It ensures that the bit shifts stay within 32 bits by using a bitwise AND mask (0xFFFFFFFF).\n",
    "\n",
    "E.G:\n",
    "num = 7 (00000000000000000000000000000111 in binary)\n",
    "rotl(num, 2) -> 28 (00000000000000000000000000011100 in binary)\n",
    "\n",
    "Link: https://en.wikipedia.org/wiki/Circular_shift"
   ]
  },
  {
   "cell_type": "code",
   "execution_count": 6,
   "metadata": {},
   "outputs": [],
   "source": [
    "def rotl(x, n=1):\n",
    "    #Rotate the bits of a 32-bit unsigned integer to the left by n places.\n",
    "    n = n % 32  # Ensure n is within a valid range\n",
    "    return ((x << n) & 0xFFFFFFFF) | (x >> (32 - n))"
   ]
  },
  {
   "cell_type": "markdown",
   "metadata": {},
   "source": [
    "# Right Rotation (rotr)This function rotates the bits of a 32-bit unsigned integer to the right by `n` places.\n",
    "\n",
    "E.G:\n",
    "num = 7 (00000000000000000000000000000111 in binary)\n",
    "rotr(num, 2) -> 3221225472 (11000000000000000000000000000000 in binary)"
   ]
  },
  {
   "cell_type": "code",
   "execution_count": 7,
   "metadata": {},
   "outputs": [],
   "source": [
    "def rotr(x, n=1):\n",
    "    n = n % 32  # make sure n is within a valid range\n",
    "    return ((x >> n) | (x << (32 - n))) & 0xFFFFFFFF"
   ]
  },
  {
   "cell_type": "markdown",
   "metadata": {},
   "source": [
    "## Binary Representation (bin_representation)\n",
    "This function returns a 32-bit binary representation of a number as a string.\n",
    "\n",
    "E.G:\n",
    "num = 7\n",
    "bin_representation(num) -> \"00000000000000000000000000000111\"\n",
    "\n",
    "\n",
    "Reference: https://realpython.com/python-bitwise-operators/"
   ]
  },
  {
   "cell_type": "code",
   "execution_count": 8,
   "metadata": {},
   "outputs": [],
   "source": [
    "def bin_representation(n):\n",
    "#Return the 32-bit binary representation of a number.\n",
    "    binary_str = \"\"\n",
    "    for i in range(31, -1, -1):\n",
    "        binary_str += \"1\" if n & (1 << i) else \"0\"\n",
    "    return binary_str\n"
   ]
  },
  {
   "cell_type": "markdown",
   "metadata": {},
   "source": [
    "## Main Function\n",
    "This function demonstrates the implemented bitwise operations with example cases."
   ]
  },
  {
   "cell_type": "code",
   "execution_count": 9,
   "metadata": {},
   "outputs": [
    {
     "name": "stdout",
     "output_type": "stream",
     "text": [
      "Original: 00000000000000000000000000000111\n",
      "Rotated : 00000000000000000000000000011100\n",
      "Original: 00000000000000000000000000000100\n",
      "Rotated : 00000000000000000000000000100000\n"
     ]
    }
   ],
   "source": [
    "def main():\n",
    "    num = 7  # number\n",
    "    rotated = rotl(num, 2)  # Rotate left by 2 bits\n",
    "    print(f\"Original: {bin_representation(num)}\")\n",
    "    print(f\"Rotated : {bin_representation(rotated)}\")\n",
    "\n",
    "    num = 4\n",
    "    rotated = rotl(num, 3)  # Rotate left by 3 bits\n",
    "    print(f\"Original: {bin_representation(num)}\")\n",
    "    print(f\"Rotated : {bin_representation(rotated)}\")\n",
    "\n",
    "if __name__ == \"__main__\":\n",
    "    main()"
   ]
  },
  {
   "cell_type": "code",
   "execution_count": null,
   "metadata": {},
   "outputs": [],
   "source": []
  },
  {
   "cell_type": "markdown",
   "metadata": {},
   "source": [
    "## Task 2 Hash Functions"
   ]
  },
  {
   "cell_type": "code",
   "execution_count": null,
   "metadata": {},
   "outputs": [],
   "source": []
  },
  {
   "cell_type": "markdown",
   "metadata": {},
   "source": [
    "##  Task 3 SHA256"
   ]
  },
  {
   "cell_type": "markdown",
   "metadata": {},
   "source": [
    "## Task 4 Prime Numbers"
   ]
  },
  {
   "cell_type": "markdown",
   "metadata": {},
   "source": [
    "## Task 5 Roots"
   ]
  },
  {
   "cell_type": "markdown",
   "metadata": {},
   "source": [
    "## Task 6  Proof of Work"
   ]
  },
  {
   "cell_type": "markdown",
   "metadata": {},
   "source": [
    "## Task 7 Turing Machines"
   ]
  },
  {
   "cell_type": "markdown",
   "metadata": {},
   "source": [
    "## Task 8 Computational Complexity"
   ]
  }
 ],
 "metadata": {
  "kernelspec": {
   "display_name": "Python 3 (ipykernel)",
   "language": "python",
   "name": "python3"
  },
  "language_info": {
   "codemirror_mode": {
    "name": "ipython",
    "version": 3
   },
   "file_extension": ".py",
   "mimetype": "text/x-python",
   "name": "python",
   "nbconvert_exporter": "python",
   "pygments_lexer": "ipython3",
   "version": "3.12.1"
  }
 },
 "nbformat": 4,
 "nbformat_minor": 2
}
