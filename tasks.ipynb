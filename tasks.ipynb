{
 "cells": [
  {
   "cell_type": "markdown",
   "metadata": {},
   "source": [
    "## Task 1 Binary Representations\n",
    "# Binary Operations in Python\n",
    "\n",
    "This Jupyter Notebook explores fundamental binary operations in Python. \n",
    "We will implement functions for bitwise rotations, selection, and majority voting, \n",
    "all essential for cryptographic and low-level computing tasks.\n",
    "\n",
    "Links:\n",
    "- Bitwise operations in Python: https://realpython.com/python-bitwise-operators/\n",
    "- SHA-256 Bitwise Operations: https://en.wikipedia.org/wiki/SHA-2\n"
   ]
  },
  {
   "cell_type": "code",
   "execution_count": 10,
   "metadata": {},
   "outputs": [],
   "source": [
    "# Import required libraries\n",
    "import numpy as np"
   ]
  },
  {
   "cell_type": "markdown",
   "metadata": {},
   "source": [
    "## Left Rotation (rotl)\n",
    "This function rotates the bits of a 32-bit unsigned integer to the left by `n` places.\n",
    "It ensures that the bit shifts stay within 32 bits by using a bitwise AND mask (0xFFFFFFFF).\n",
    "\n",
    "E.G:\n",
    "num = 7 (00000000000000000000000000000111 in binary)\n",
    "rotl(num, 2) -> 28 (00000000000000000000000000011100 in binary)\n",
    "\n",
    "Link: https://en.wikipedia.org/wiki/Circular_shift"
   ]
  },
  {
   "cell_type": "code",
   "execution_count": 11,
   "metadata": {},
   "outputs": [
    {
     "name": "stdout",
     "output_type": "stream",
     "text": [
      "Original: 0b1011 (11)\n",
      "Rotated Left: 0b10110 (22)\n"
     ]
    }
   ],
   "source": [
    "def rotl(x, n=1):\n",
    "    #  make x is treated as a 32-bit unsigned integer\n",
    "    x = x & 0xFFFFFFFF\n",
    "    # Perform the rotation\n",
    "    return ((x << n) | (x >> (32 - n))) & 0xFFFFFFFF\n",
    "\n",
    "# Example test\n",
    "x = 0b1011  # Binary 1101 (Decimal 11)\n",
    "rotated_left = rotl(x, 1)  # Rotate left by 1 bit\n",
    "\n",
    "print(f\"Original: {bin(x)} ({x})\")\n",
    "print(f\"Rotated Left: {bin(rotated_left)} ({rotated_left})\")"
   ]
  },
  {
   "cell_type": "markdown",
   "metadata": {},
   "source": [
    "# Right Rotation (rotr)\n",
    "-This function rotates the bits of a 32-bit unsigned integer to the right by `n` places. Here's how it works:\n",
    "\n",
    "Right Shift (x >> n): Shifts the bits of x to the right by n positions. The bits that fall off the right end are lost.\n",
    "\n",
    "Left Shift (x << (32 - n)): Moves the lost rightmost bits (from the right shift) to the leftmost positions.\n",
    "\n",
    "Bitwise OR (|): Combines the results of the right shift and left shift to form the rotated number.\n",
    "\n",
    "Masking (& 0xFFFFFFFF): Ensures the result stays within 32 bits by masking out any extra bits.\n",
    "\n"
   ]
  },
  {
   "cell_type": "code",
   "execution_count": 12,
   "metadata": {},
   "outputs": [
    {
     "name": "stdout",
     "output_type": "stream",
     "text": [
      "Original: 0b1011 (11)\n",
      "Rotated Right: 0b10000000000000000000000000000101 (2147483653)\n"
     ]
    }
   ],
   "source": [
    "\n",
    "def rotr(x, n=1):\n",
    "    \"\"\"Rotate the bits in a 32-bit unsigned integer to the right by n places.\"\"\"\n",
    "    n = n % 32  # Ensure n stays within a valid range (0-31)\n",
    "    return ((x >> n) | ((x << (32 - n)) & 0xFFFFFFFF))  # Keep within 32 bits\n",
    "\n",
    "# Example test\n",
    "x = 0b1011  # Binary 1101 (Decimal 11)\n",
    "rotated_right = rotr(x, 1)  # Rotate right by 1 bit\n",
    "\n",
    "print(f\"Original: {bin(x)} ({x})\")\n",
    "print(f\"Rotated Right: {bin(rotated_right)} ({rotated_right})\")"
   ]
  },
  {
   "cell_type": "markdown",
   "metadata": {},
   "source": [
    "## Choose Function (ch)\n",
    "This function implements the bitwise Choose (CH) operation used in cryptographic hash functions like SHA-256.\n",
    "It selects bits from `y` where `x` has bits set to 1 and bits from `z` where `x` has bits set to 0.\n",
    "\n",
    "Formula: `ch(x, y, z) = (x & y) ^ (~x & z)`\n",
    "\n",
    "E.G:\n",
    "x = 0b1100, y = 0b1010, z = 0b0110\n",
    "ch(x, y, z) -> 0b1010\n",
    "\n",
    "\n",
    "Reference: https://en.wikipedia.org/wiki/SHA-2"
   ]
  },
  {
   "cell_type": "code",
   "execution_count": 13,
   "metadata": {},
   "outputs": [
    {
     "name": "stdout",
     "output_type": "stream",
     "text": [
      "Result (Binary): 0b1010\n",
      "Result (Decimal): 10\n"
     ]
    }
   ],
   "source": [
    "def ch(x, y, z):\n",
    "    \"\"\"Choose bits from y where x has 1s, and from z where x has 0s.\"\"\"\n",
    "    bit_width = max(x.bit_length(), y.bit_length(), z.bit_length())  # Auto-detect bit width\n",
    "    not_x = (~x) & ((1 << bit_width) - 1)  # Properly mask negation to correct bit width\n",
    "    return (x & y) | (not_x & z)  # Select y where x=1, z where x=0\n",
    "\n",
    "# Example values (in binary)\n",
    "x = 0b1100  # 12 in decimal\n",
    "y = 0b1010  # 10 in decimal\n",
    "z = 0b0110  # 6 in decimal\n",
    "\n",
    "# Call the function\n",
    "result = ch(x, y, z)\n",
    "\n",
    "# Print the result in binary and decimal\n",
    "print(f\"Result (Binary): {bin(result)}\")\n",
    "print(f\"Result (Decimal): {result}\")"
   ]
  },
  {
   "cell_type": "markdown",
   "metadata": {},
   "source": [
    "## Majority Function (maj)\n",
    "This function takes a majority vote of the bits in x, y, and z.\n",
    "It outputs a 1 in bit position `i` where at least two of `x, y, and z` have 1's in position `i`.\n",
    "All other output bit positions should be 0.\n",
    "\n",
    "Formula: `maj(x, y, z) = (x & y) ^ (x & z) ^ (y & z)`\n",
    "\n",
    "E.G:\n",
    "x = 0b1100, y = 0b1010, z = 0b0110\n",
    "maj(x, y, z) -> 0b1110\n",
    "\n",
    "Reference: https://en.wikipedia.org/wiki/Majority_function"
   ]
  },
  {
   "cell_type": "code",
   "execution_count": 14,
   "metadata": {},
   "outputs": [
    {
     "name": "stdout",
     "output_type": "stream",
     "text": [
      "maj(0b1010, 0b1100, 0b110) = 0b1110\n"
     ]
    }
   ],
   "source": [
    "def maj(x, y, z):\n",
    "    # Ensure x, y, z are treated as 32-bit unsigned integers\n",
    "    x = x & 0xFFFFFFFF\n",
    "    y = y & 0xFFFFFFFF\n",
    "    z = z & 0xFFFFFFFF\n",
    "    # Perform the majority vote\n",
    "    return (x & y) | (x & z) | (y & z)\n",
    "\n",
    "# Example usage:\n",
    "x = 0b1010\n",
    "y = 0b1100\n",
    "z = 0b0110\n",
    "result = maj(x, y, z)\n",
    "print(f\"maj({bin(x)}, {bin(y)}, {bin(z)}) = {bin(result)}\")"
   ]
  },
  {
   "cell_type": "markdown",
   "metadata": {},
   "source": [
    "## Main Function\n",
    "This function demonstrates the implemented bitwise operations with example cases."
   ]
  },
  {
   "cell_type": "code",
   "execution_count": 15,
   "metadata": {},
   "outputs": [],
   "source": [
    "if __name__ == \"__main__\":\n",
    "    # Example inputs\n",
    "    x = 0b10101010101010101010101010101010  # 32-bit alternating bits\n",
    "    y = 0b11001100110011001100110011001100\n",
    "    z = 0b11110000111100001111000011110000\n"
   ]
  },
  {
   "cell_type": "code",
   "execution_count": 16,
   "metadata": {},
   "outputs": [
    {
     "name": "stdout",
     "output_type": "stream",
     "text": [
      "rotl(x, 1): 0b1010101010101010101010101010101\n",
      "rotr(x, 1): 0b1010101010101010101010101010101\n",
      "ch(x, y, z): 0b11011000110110001101100011011000\n",
      "maj(x, y, z): 0b11101000111010001110100011101000\n"
     ]
    }
   ],
   "source": [
    "print(\"rotl(x, 1):\", bin(rotl(x, 1)))\n",
    "print(\"rotr(x, 1):\", bin(rotr(x, 1)))\n",
    "\n",
    "# Choose and majority functions\n",
    "print(\"ch(x, y, z):\", bin(ch(x, y, z)))\n",
    "print(\"maj(x, y, z):\", bin(maj(x, y, z)))"
   ]
  },
  {
   "cell_type": "code",
   "execution_count": 17,
   "metadata": {},
   "outputs": [
    {
     "name": "stdout",
     "output_type": "stream",
     "text": [
      "\n",
      "rotl(0s, 1): 0b0\n",
      "rotr(0s, 1): 0b0\n",
      "ch(0s, 0s, 0s): 0b0\n",
      "maj(0s, 0s, 0s): 0b0\n"
     ]
    }
   ],
   "source": [
    "\n",
    "# Edge case: All bits set to 0\n",
    "x = 0b00000000000000000000000000000000\n",
    "y = 0b00000000000000000000000000000000\n",
    "z = 0b00000000000000000000000000000000\n",
    "\n",
    "print(\"\\nrotl(0s, 1):\", bin(rotl(x, 1)))\n",
    "print(\"rotr(0s, 1):\", bin(rotr(x, 1)))\n",
    "print(\"ch(0s, 0s, 0s):\", bin(ch(x, y, z)))\n",
    "print(\"maj(0s, 0s, 0s):\", bin(maj(x, y, z)))"
   ]
  },
  {
   "cell_type": "code",
   "execution_count": 18,
   "metadata": {},
   "outputs": [
    {
     "name": "stdout",
     "output_type": "stream",
     "text": [
      "\n",
      "rotl(1s, 1): 0b11111111111111111111111111111111\n",
      "rotr(1s, 1): 0b11111111111111111111111111111111\n",
      "ch(1s, 1s, 1s): 0b11111111111111111111111111111111\n",
      "maj(1s, 1s, 1s): 0b11111111111111111111111111111111\n"
     ]
    }
   ],
   "source": [
    "# Edge case: All bits set to 1\n",
    "x = 0xFFFFFFFF  # 32-bit all ones\n",
    "y = 0xFFFFFFFF\n",
    "z = 0xFFFFFFFF\n",
    "\n",
    "print(\"\\nrotl(1s, 1):\", bin(rotl(x, 1)))\n",
    "print(\"rotr(1s, 1):\", bin(rotr(x, 1)))\n",
    "print(\"ch(1s, 1s, 1s):\", bin(ch(x, y, z)))\n",
    "print(\"maj(1s, 1s, 1s):\", bin(maj(x, y, z)))"
   ]
  },
  {
   "cell_type": "code",
   "execution_count": 19,
   "metadata": {},
   "outputs": [
    {
     "name": "stdout",
     "output_type": "stream",
     "text": [
      "\n",
      "ch(x, y, z): 0b1010000010100000101000001010000\n",
      "maj(x, y, z): 0b11110000111100001111000011110000\n"
     ]
    }
   ],
   "source": [
    "    # Edge case: x, y, and z have alternating patterns\n",
    "x = 0b10101010101010101010101010101010\n",
    "y = 0b01010101010101010101010101010101\n",
    "z = 0b11110000111100001111000011110000\n",
    "\n",
    "print(\"\\nch(x, y, z):\", bin(ch(x, y, z)))\n",
    "print(\"maj(x, y, z):\", bin(maj(x, y, z)))"
   ]
  },
  {
   "cell_type": "markdown",
   "metadata": {},
   "source": [
    "## Task 2 Hash Functions"
   ]
  },
  {
   "cell_type": "markdown",
   "metadata": {},
   "source": [
    "\n",
    "## Hash Functions in Python\n",
    "\n",
    "This Task explores hash functions, specifically implementing and testing a hash function inspired by Brian Kernighan and Dennis Ritchie's C code. \n",
    "We are to convert the given C function to Python,\n",
    "**************************************************************\n",
    "unsigned hash(char *s) {\n",
    "    unsigned hashval;\n",
    "    for (hashval = 0; *s != '\\0'; s++)\n",
    "        hashval = *s + 31 * hashval;\n",
    "    return hashval % 101;\n",
    "} \n",
    "**************************************************************\n",
    "test it with different inputs, and analyse the choice of values 31 and 101.\n",
    "\n",
    "References:\n",
    "- Hash functions in C and Python: https://realpython.com/python-hash-functions/\n",
    "- Explanation of modular hashing: https://en.wikipedia.org/wiki/Hash_function\n",
    "\n",
    "\n"
   ]
  },
  {
   "cell_type": "markdown",
   "metadata": {},
   "source": [
    "## Hash Function Implementation\n",
    "This function replicates the C-style hash function in Python.\n",
    "It iterates through a given string, updating the hash value using multiplication and addition.\n",
    "\n",
    "Formula:\n",
    "hashval = ord(char) + 31 * hashval\n",
    "hashval = hashval % 101  # Ensure values fit within 101 buckets\n",
    "\n",
    "\n",
    "Reference: https://en.wikipedia.org/wiki/Hash_function"
   ]
  },
  {
   "cell_type": "code",
   "execution_count": 20,
   "metadata": {},
   "outputs": [],
   "source": [
    "def hash_kr(s):\n",
    "    \"\"\"\n",
    "    Hash function from \"The C Programming Language\" by Kernighan and Ritchie.\n",
    "    Converts a string into a hash value using the algorithm:\n",
    "    hashval = *s + 31 * hashval, and returns hashval % 101.\n",
    "    \"\"\"\n",
    "    hashval = 0\n",
    "    for char in s:\n",
    "        hashval = ord(char) + 31 * hashval\n",
    "    return hashval % 101"
   ]
  },
  {
   "cell_type": "markdown",
   "metadata": {},
   "source": [
    "## Testing the Hash Function"
   ]
  },
  {
   "cell_type": "code",
   "execution_count": 21,
   "metadata": {},
   "outputs": [
    {
     "name": "stdout",
     "output_type": "stream",
     "text": [
      "Hash of 'hello': 17\n",
      "Hash of 'world': 34\n",
      "Hash of 'python': 91\n",
      "Hash of 'hash': 15\n",
      "Hash of 'function': 100\n",
      "Hash of 'Kernighan': 77\n",
      "Hash of 'Ritchie': 19\n"
     ]
    }
   ],
   "source": [
    "def main():\n",
    "    # Test cases\n",
    "    test_strings = [\n",
    "        \"hello\",\n",
    "        \"world\",\n",
    "        \"python\",\n",
    "        \"hash\",\n",
    "        \"function\",\n",
    "        \"Kernighan\",\n",
    "        \"Ritchie\",\n",
    "    ]\n",
    "\n",
    "    for s in test_strings:\n",
    "        hash_value = hash_kr(s)\n",
    "        print(f\"Hash of '{s}': {hash_value}\")\n",
    "\n",
    "# Run the main function\n",
    "if __name__ == \"__main__\":\n",
    "    main()"
   ]
  },
  {
   "cell_type": "markdown",
   "metadata": {},
   "source": [
    "## Why Use 31 and 101?\n",
    "\n",
    "### Why 31?\n",
    "\n",
    "- 31 is a prime number. Prime numbers are often used in hash functions because they reduce the likelihood of collisions (two different inputs producing the same hash value).\n",
    "\n",
    "- 31 is also a Mersenne prime (a prime number of the form \n",
    "2\n",
    "n\n",
    "−\n",
    "1\n",
    "2 \n",
    "n\n",
    " −1), which makes multiplication efficient on many processors. Specifically, \n",
    "31\n",
    "=\n",
    "2\n",
    "5\n",
    "−\n",
    "1\n",
    "31=2 \n",
    "5\n",
    " −1, so multiplying by 31 can be optimized as a shift and subtraction:\n",
    "\n",
    "\n",
    "***31 * hashval = (hashval << 5) - hashval***\n",
    "\n",
    "- This property makes the hash function computationally efficient.\n",
    "\n",
    "### Why 101?\n",
    "\n",
    "101 is also a prime number. Using a prime number for the modulo operation helps distribute hash values more evenly across the range of possible outputs.\n",
    "\n",
    "The choice of 101 determines the size of the hash table (or the range of hash values). A larger prime number reduces the likelihood of collisions but increases the size of the hash table.\n",
    "Reference: \n",
    "https://en.wikipedia.org/wiki/Rabin%E2%80%93Karp_algorithm\n",
    "\n",
    "\n",
    "- The C Programming Language, 2nd Edition:\thttps://www.amazon.com/Programming-Language-2nd-Brian-Kernighan/dp/0131103628\n",
    "\n",
    "- The Art of Computer Programming, Volume 3\thttps://www.amazon.com/Art-Computer-Programming-Sorting-Searching/dp/0201896850\n",
    "- Effective Java\thttps://www.amazon.com/Effective-Java-Joshua-Bloch/dp/0134685997\n",
    "- Introduction to Algorithms\thttps://www.amazon.com/Introduction-Algorithms-3rd-MIT-Press/dp/0262033844\n",
    "- Wikipedia - \"Mersenne Prime\"\thttps://en.wikipedia.org/wiki/Mersenne_prime\n",
    "- Algorithms by Sedgewick and Wayne\thttps://www.amazon.com/Algorithms-4th-Robert-Sedgewick/dp/032157351X\n",
    "- Stack Overflow - \"Why use 31 in hashCode?\"\thttps://stackoverflow.com/questions/299304/why-does-javas-hashcode-in-string-use-31-as-a-multiplier\n",
    "- GeeksforGeeks - \"Introduction to Hashing\"\thttps://www.geeksforgeeks.org/hashing-set-1-introduction/\n"
   ]
  },
  {
   "cell_type": "markdown",
   "metadata": {},
   "source": [
    "##  Task 3 SHA256"
   ]
  },
  {
   "cell_type": "markdown",
   "metadata": {},
   "source": [
    "## SHA-256 Padding in Python\n",
    "\n",
    "This Task explores the SHA-256 padding process.\n",
    "I will be implementing a function that calculates the SHA-256 padding for a given file.\n",
    "\n",
    "References:\n",
    "- SHA-256 Specification: https://en.wikipedia.org/wiki/SHA-2\n",
    "- Cryptographic Hash Functions: https://crypto.stackexchange.com/questions/22180/why-does-sha-256-use-padding\n",
    "\n"
   ]
  },
  {
   "cell_type": "markdown",
   "metadata": {},
   "source": [
    " This method \n",
    " Computes and prints the SHA-256 padding for a given file.   \n",
    "    Args:\n",
    "        file_path (str): Is the path to the input file.\n",
    "    \n",
    "    Returns:\n",
    "        None: Prints the padding in hexadecimal format."
   ]
  },
  {
   "cell_type": "code",
   "execution_count": 22,
   "metadata": {},
   "outputs": [],
   "source": [
    "import os"
   ]
  },
  {
   "cell_type": "code",
   "execution_count": 23,
   "metadata": {},
   "outputs": [],
   "source": [
    "def sha256_padding(file_path):\n",
    "    \"\"\"\n",
    "    Calculate the SHA-256 padding for a given file.\n",
    "    Prints the padding in hex format.\n",
    "    \"\"\"\n",
    "    # Read the file content\n",
    "    with open(file_path, \"rb\") as f:\n",
    "        message = f.read()\n",
    "\n",
    "    # Calculate the original message length in bits\n",
    "    original_length_bits = len(message) * 8\n",
    "\n",
    "\n",
    "    # Step 1: Append a single '1' bit\n",
    "    padded_message = bytearray(message)  # Convert to bytearray for easy manipulation\n",
    "    padded_message.append(0x80)  # Append '1' bit followed by 7 '0' bits (0x80 = 10000000)\n",
    "\n",
    "\n",
    "      # Step 2: Append '0' bits until the length is congruent to 448 mod 512\n",
    "    # Calculate the number of '0' bits to append\n",
    "    padding_length = (448 - (original_length_bits + 8) % 512) % 512\n",
    "    padded_message.extend([0] * (padding_length // 8))\n",
    "\n",
    "    # Step 3: Append the original length as a 64-bit big-endian integer\n",
    "    padded_message.extend(original_length_bits.to_bytes(8, byteorder=\"big\"))\n",
    "    # Extract the padding (everything after the original message)\n",
    "    padding = padded_message[len(message):]\n",
    " \n",
    "    # Print the padding in hex format\n",
    "    print(\"Padding (in hex):\")\n",
    "    for i, byte in enumerate(padding):\n",
    "        print(f\"{byte:02x}\", end=\" \")\n",
    "        if (i + 1) % 16 == 0:  # Print 16 bytes per line\n",
    "            print()\n",
    "    print()"
   ]
  },
  {
   "cell_type": "code",
   "execution_count": 24,
   "metadata": {},
   "outputs": [
    {
     "name": "stdout",
     "output_type": "stream",
     "text": [
      "Padding (in hex):\n",
      "80 00 00 00 00 00 00 00 00 00 00 00 00 00 00 00 \n",
      "00 00 00 00 00 00 00 00 00 00 00 00 00 00 00 00 \n",
      "00 00 00 00 00 00 00 00 00 00 00 00 00 00 00 00 \n",
      "00 00 00 00 00 00 00 00 00 00 00 00 18 \n"
     ]
    }
   ],
   "source": [
    "\n",
    "# Example usage\n",
    "if __name__ == \"__main__\":\n",
    "    file_path = \"test_abc.txt\"  \n",
    "    sha256_padding(file_path)"
   ]
  },
  {
   "cell_type": "markdown",
   "metadata": {},
   "source": [
    "References:\n",
    "- [SHA-2 Wikipedia](https://en.wikipedia.org/wiki/SHA-2)\n",
    "- [NIST FIPS 180-4](https://nvlpubs.nist.gov/nistpubs/FIPS/NIST.FIPS.180-4.pdf)\n",
    "- [RFC 6234: Secure Hash Algorithm](https://www.rfc-editor.org/rfc/rfc6234)"
   ]
  },
  {
   "cell_type": "markdown",
   "metadata": {},
   "source": [
    "## Testing SHA-256 Padding\n"
   ]
  },
  {
   "cell_type": "code",
   "execution_count": 25,
   "metadata": {},
   "outputs": [
    {
     "name": "stdout",
     "output_type": "stream",
     "text": [
      "Padding (in hex):\n",
      "80 00 00 00 00 00 00 00 00 00 00 00 00 00 00 00 \n",
      "00 00 00 00 00 00 00 00 00 00 00 00 00 00 00 00 \n",
      "00 00 00 00 00 00 00 00 00 00 00 00 00 00 00 00 \n",
      "00 00 00 00 00 00 00 00 00 00 00 00 18 \n"
     ]
    }
   ],
   "source": [
    "#test file with \"abc\" content\n",
    "test_file = \"test_abc.txt\"\n",
    "with open(test_file, \"wb\") as f:\n",
    "    f.write(b\"abc\")\n",
    "\n",
    "#display SHA-256 padding\n",
    "sha256_padding(test_file)"
   ]
  },
  {
   "cell_type": "markdown",
   "metadata": {},
   "source": [
    "## Task 4 Prime Numbers"
   ]
  },
  {
   "cell_type": "markdown",
   "metadata": {},
   "source": [
    "## Prime Number Calculation in Python\n",
    "\n",
    "This Task explores two different algorithms to compute the first 1,000 prime numbers.\n",
    "I will implement and compare:\n",
    "1. The **Sieve of Eratosthenes** (efficient for finding many primes)\n",
    "2. A **Basic Trial Division** method (simpler but slower)\n",
    "\n",
    "References:\n",
    "- Sieve of Eratosthenes: https://en.wikipedia.org/wiki/Sieve_of_Eratosthenes\n",
    "- Prime number properties: https://primes.utm.edu/\n",
    "- Trial division method: https://en.wikipedia.org/wiki/Trial_division"
   ]
  },
  {
   "cell_type": "markdown",
   "metadata": {},
   "source": [
    "\n",
    "    Implements the Sieve of Eratosthenes to find the first n prime numbers.\n",
    "    This algorithm is efficient for generating a list of primes by iteratively marking the multiples of each prime number starting from 2.\n",
    "    \n",
    "    Args:\n",
    "        n (int): Number of prime numbers to generate.\n",
    "    \n",
    "    Returns:\n",
    "        list: List of the first n prime numbers.\n",
    "    \n",
    "    Reference: https://en.wikipedia.org/wiki/Sieve_of_Eratosthenes\n",
    "\n",
    "    \n"
   ]
  },
  {
   "cell_type": "code",
   "execution_count": 26,
   "metadata": {},
   "outputs": [],
   "source": [
    "import math\n",
    "\n",
    "def sieve_of_eratosthenes(n):\n",
    "    \"\"\"\n",
    "    Implements the Sieve of Eratosthenes to find the first n prime numbers.\n",
    "    Efficient for generating a list of primes.\n",
    "\n",
    "    Args:\n",
    "        n (int): Number of prime numbers to generate.\n",
    "\n",
    "    Returns:\n",
    "        list: List of the first n prime numbers.\n",
    "\n",
    "    Reference: https://en.wikipedia.org/wiki/Sieve_of_Eratosthenes\n",
    "    \"\"\"\n",
    "    limit = 10000  # Upper bound for finding primes\n",
    "    primes = []\n",
    "    sieve = [True] * (limit + 1)\n",
    "    \n",
    "    for num in range(2, limit + 1):\n",
    "        if sieve[num]:\n",
    "            primes.append(num)\n",
    "            if len(primes) == n:\n",
    "                return primes\n",
    "            for multiple in range(num * num, limit + 1, num):\n",
    "                sieve[multiple] = False"
   ]
  },
  {
   "cell_type": "markdown",
   "metadata": {},
   "source": [
    "## Trial Division\n",
    "- Implements the Trial Division method to find the first n prime numbers. \n",
    "- This algorithm checks each candidate number for divisibility by all previously found primes up to its square root."
   ]
  },
  {
   "cell_type": "code",
   "execution_count": 27,
   "metadata": {},
   "outputs": [],
   "source": [
    "def trial_division(n):\n",
    "    \"\"\"\n",
    "    Implements the Trial Division method to find the first n prime numbers.\n",
    "    Checks each candidate number for divisibility by all previously found primes.\n",
    "\n",
    "    Args:\n",
    "        n (int): Number of prime numbers to generate.\n",
    "\n",
    "    Returns:\n",
    "        list: List of the first n prime numbers.\n",
    "\n",
    "    Reference: https://en.wikipedia.org/wiki/Trial_division\n",
    "    \"\"\"\n",
    "    primes = []\n",
    "    candidate = 2\n",
    "    \n",
    "    while len(primes) < n:\n",
    "        is_prime = True\n",
    "        for prime in primes:\n",
    "            if prime > math.isqrt(candidate):\n",
    "                break\n",
    "            if candidate % prime == 0:\n",
    "                is_prime = False\n",
    "                break\n",
    "        if is_prime:\n",
    "            primes.append(candidate)\n",
    "        candidate += 1\n",
    "    \n",
    "    return primes"
   ]
  },
  {
   "cell_type": "markdown",
   "metadata": {},
   "source": [
    "\n",
    "## Testing Prime Number Generation\n",
    "Compute and compare the first 1,000 prime numbers using both methods."
   ]
  },
  {
   "cell_type": "code",
   "execution_count": 28,
   "metadata": {},
   "outputs": [],
   "source": [
    "# Compute primes using both methods\n",
    "primes_sieve = sieve_of_eratosthenes(1000)\n",
    "primes_trial = trial_division(1000)"
   ]
  },
  {
   "cell_type": "code",
   "execution_count": 29,
   "metadata": {},
   "outputs": [
    {
     "name": "stdout",
     "output_type": "stream",
     "text": [
      "Successfully generated the first 100 prime numbers using both methods.\n",
      "Sieve of Eratosthenes: [2, 3, 5, 7, 11, 13, 17, 19, 23, 29, 31, 37, 41, 43, 47, 53, 59, 61, 67, 71, 73, 79, 83, 89, 97, 101, 103, 107, 109, 113, 127, 131, 137, 139, 149, 151, 157, 163, 167, 173, 179, 181, 191, 193, 197, 199, 211, 223, 227, 229, 233, 239, 241, 251, 257, 263, 269, 271, 277, 281, 283, 293, 307, 311, 313, 317, 331, 337, 347, 349, 353, 359, 367, 373, 379, 383, 389, 397, 401, 409, 419, 421, 431, 433, 439, 443, 449, 457, 461, 463, 467, 479, 487, 491, 499, 503, 509, 521, 523, 541, 547, 557, 563, 569, 571, 577, 587, 593, 599, 601, 607, 613, 617, 619, 631, 641, 643, 647, 653, 659, 661, 673, 677, 683, 691, 701, 709, 719, 727, 733, 739, 743, 751, 757, 761, 769, 773, 787, 797, 809, 811, 821, 823, 827, 829, 839, 853, 857, 859, 863, 877, 881, 883, 887, 907, 911, 919, 929, 937, 941, 947, 953, 967, 971, 977, 983, 991, 997, 1009, 1013, 1019, 1021, 1031, 1033, 1039, 1049, 1051, 1061, 1063, 1069, 1087, 1091, 1093, 1097, 1103, 1109, 1117, 1123, 1129, 1151, 1153, 1163, 1171, 1181, 1187, 1193, 1201, 1213, 1217, 1223, 1229, 1231, 1237, 1249, 1259, 1277, 1279, 1283, 1289, 1291, 1297, 1301, 1303, 1307, 1319, 1321, 1327, 1361, 1367, 1373, 1381, 1399, 1409, 1423, 1427, 1429, 1433, 1439, 1447, 1451, 1453, 1459, 1471, 1481, 1483, 1487, 1489, 1493, 1499, 1511, 1523, 1531, 1543, 1549, 1553, 1559, 1567, 1571, 1579, 1583, 1597, 1601, 1607, 1609, 1613, 1619, 1621, 1627, 1637, 1657, 1663, 1667, 1669, 1693, 1697, 1699, 1709, 1721, 1723, 1733, 1741, 1747, 1753, 1759, 1777, 1783, 1787, 1789, 1801, 1811, 1823, 1831, 1847, 1861, 1867, 1871, 1873, 1877, 1879, 1889, 1901, 1907, 1913, 1931, 1933, 1949, 1951, 1973, 1979, 1987, 1993, 1997, 1999, 2003, 2011, 2017, 2027, 2029, 2039, 2053, 2063, 2069, 2081, 2083, 2087, 2089, 2099, 2111, 2113, 2129, 2131, 2137, 2141, 2143, 2153, 2161, 2179, 2203, 2207, 2213, 2221, 2237, 2239, 2243, 2251, 2267, 2269, 2273, 2281, 2287, 2293, 2297, 2309, 2311, 2333, 2339, 2341, 2347, 2351, 2357, 2371, 2377, 2381, 2383, 2389, 2393, 2399, 2411, 2417, 2423, 2437, 2441, 2447, 2459, 2467, 2473, 2477, 2503, 2521, 2531, 2539, 2543, 2549, 2551, 2557, 2579, 2591, 2593, 2609, 2617, 2621, 2633, 2647, 2657, 2659, 2663, 2671, 2677, 2683, 2687, 2689, 2693, 2699, 2707, 2711, 2713, 2719, 2729, 2731, 2741, 2749, 2753, 2767, 2777, 2789, 2791, 2797, 2801, 2803, 2819, 2833, 2837, 2843, 2851, 2857, 2861, 2879, 2887, 2897, 2903, 2909, 2917, 2927, 2939, 2953, 2957, 2963, 2969, 2971, 2999, 3001, 3011, 3019, 3023, 3037, 3041, 3049, 3061, 3067, 3079, 3083, 3089, 3109, 3119, 3121, 3137, 3163, 3167, 3169, 3181, 3187, 3191, 3203, 3209, 3217, 3221, 3229, 3251, 3253, 3257, 3259, 3271, 3299, 3301, 3307, 3313, 3319, 3323, 3329, 3331, 3343, 3347, 3359, 3361, 3371, 3373, 3389, 3391, 3407, 3413, 3433, 3449, 3457, 3461, 3463, 3467, 3469, 3491, 3499, 3511, 3517, 3527, 3529, 3533, 3539, 3541, 3547, 3557, 3559, 3571, 3581, 3583, 3593, 3607, 3613, 3617, 3623, 3631, 3637, 3643, 3659, 3671, 3673, 3677, 3691, 3697, 3701, 3709, 3719, 3727, 3733, 3739, 3761, 3767, 3769, 3779, 3793, 3797, 3803, 3821, 3823, 3833, 3847, 3851, 3853, 3863, 3877, 3881, 3889, 3907, 3911, 3917, 3919, 3923, 3929, 3931, 3943, 3947, 3967, 3989, 4001, 4003, 4007, 4013, 4019, 4021, 4027, 4049, 4051, 4057, 4073, 4079, 4091, 4093, 4099, 4111, 4127, 4129, 4133, 4139, 4153, 4157, 4159, 4177, 4201, 4211, 4217, 4219, 4229, 4231, 4241, 4243, 4253, 4259, 4261, 4271, 4273, 4283, 4289, 4297, 4327, 4337, 4339, 4349, 4357, 4363, 4373, 4391, 4397, 4409, 4421, 4423, 4441, 4447, 4451, 4457, 4463, 4481, 4483, 4493, 4507, 4513, 4517, 4519, 4523, 4547, 4549, 4561, 4567, 4583, 4591, 4597, 4603, 4621, 4637, 4639, 4643, 4649, 4651, 4657, 4663, 4673, 4679, 4691, 4703, 4721, 4723, 4729, 4733, 4751, 4759, 4783, 4787, 4789, 4793, 4799, 4801, 4813, 4817, 4831, 4861, 4871, 4877, 4889, 4903, 4909, 4919, 4931, 4933, 4937, 4943, 4951, 4957, 4967, 4969, 4973, 4987, 4993, 4999, 5003, 5009, 5011, 5021, 5023, 5039, 5051, 5059, 5077, 5081, 5087, 5099, 5101, 5107, 5113, 5119, 5147, 5153, 5167, 5171, 5179, 5189, 5197, 5209, 5227, 5231, 5233, 5237, 5261, 5273, 5279, 5281, 5297, 5303, 5309, 5323, 5333, 5347, 5351, 5381, 5387, 5393, 5399, 5407, 5413, 5417, 5419, 5431, 5437, 5441, 5443, 5449, 5471, 5477, 5479, 5483, 5501, 5503, 5507, 5519, 5521, 5527, 5531, 5557, 5563, 5569, 5573, 5581, 5591, 5623, 5639, 5641, 5647, 5651, 5653, 5657, 5659, 5669, 5683, 5689, 5693, 5701, 5711, 5717, 5737, 5741, 5743, 5749, 5779, 5783, 5791, 5801, 5807, 5813, 5821, 5827, 5839, 5843, 5849, 5851, 5857, 5861, 5867, 5869, 5879, 5881, 5897, 5903, 5923, 5927, 5939, 5953, 5981, 5987, 6007, 6011, 6029, 6037, 6043, 6047, 6053, 6067, 6073, 6079, 6089, 6091, 6101, 6113, 6121, 6131, 6133, 6143, 6151, 6163, 6173, 6197, 6199, 6203, 6211, 6217, 6221, 6229, 6247, 6257, 6263, 6269, 6271, 6277, 6287, 6299, 6301, 6311, 6317, 6323, 6329, 6337, 6343, 6353, 6359, 6361, 6367, 6373, 6379, 6389, 6397, 6421, 6427, 6449, 6451, 6469, 6473, 6481, 6491, 6521, 6529, 6547, 6551, 6553, 6563, 6569, 6571, 6577, 6581, 6599, 6607, 6619, 6637, 6653, 6659, 6661, 6673, 6679, 6689, 6691, 6701, 6703, 6709, 6719, 6733, 6737, 6761, 6763, 6779, 6781, 6791, 6793, 6803, 6823, 6827, 6829, 6833, 6841, 6857, 6863, 6869, 6871, 6883, 6899, 6907, 6911, 6917, 6947, 6949, 6959, 6961, 6967, 6971, 6977, 6983, 6991, 6997, 7001, 7013, 7019, 7027, 7039, 7043, 7057, 7069, 7079, 7103, 7109, 7121, 7127, 7129, 7151, 7159, 7177, 7187, 7193, 7207, 7211, 7213, 7219, 7229, 7237, 7243, 7247, 7253, 7283, 7297, 7307, 7309, 7321, 7331, 7333, 7349, 7351, 7369, 7393, 7411, 7417, 7433, 7451, 7457, 7459, 7477, 7481, 7487, 7489, 7499, 7507, 7517, 7523, 7529, 7537, 7541, 7547, 7549, 7559, 7561, 7573, 7577, 7583, 7589, 7591, 7603, 7607, 7621, 7639, 7643, 7649, 7669, 7673, 7681, 7687, 7691, 7699, 7703, 7717, 7723, 7727, 7741, 7753, 7757, 7759, 7789, 7793, 7817, 7823, 7829, 7841, 7853, 7867, 7873, 7877, 7879, 7883, 7901, 7907, 7919]\n",
      "Trial Division: [2, 3, 5, 7, 11, 13, 17, 19, 23, 29, 31, 37, 41, 43, 47, 53, 59, 61, 67, 71, 73, 79, 83, 89, 97, 101, 103, 107, 109, 113, 127, 131, 137, 139, 149, 151, 157, 163, 167, 173, 179, 181, 191, 193, 197, 199, 211, 223, 227, 229, 233, 239, 241, 251, 257, 263, 269, 271, 277, 281, 283, 293, 307, 311, 313, 317, 331, 337, 347, 349, 353, 359, 367, 373, 379, 383, 389, 397, 401, 409, 419, 421, 431, 433, 439, 443, 449, 457, 461, 463, 467, 479, 487, 491, 499, 503, 509, 521, 523, 541, 547, 557, 563, 569, 571, 577, 587, 593, 599, 601, 607, 613, 617, 619, 631, 641, 643, 647, 653, 659, 661, 673, 677, 683, 691, 701, 709, 719, 727, 733, 739, 743, 751, 757, 761, 769, 773, 787, 797, 809, 811, 821, 823, 827, 829, 839, 853, 857, 859, 863, 877, 881, 883, 887, 907, 911, 919, 929, 937, 941, 947, 953, 967, 971, 977, 983, 991, 997, 1009, 1013, 1019, 1021, 1031, 1033, 1039, 1049, 1051, 1061, 1063, 1069, 1087, 1091, 1093, 1097, 1103, 1109, 1117, 1123, 1129, 1151, 1153, 1163, 1171, 1181, 1187, 1193, 1201, 1213, 1217, 1223, 1229, 1231, 1237, 1249, 1259, 1277, 1279, 1283, 1289, 1291, 1297, 1301, 1303, 1307, 1319, 1321, 1327, 1361, 1367, 1373, 1381, 1399, 1409, 1423, 1427, 1429, 1433, 1439, 1447, 1451, 1453, 1459, 1471, 1481, 1483, 1487, 1489, 1493, 1499, 1511, 1523, 1531, 1543, 1549, 1553, 1559, 1567, 1571, 1579, 1583, 1597, 1601, 1607, 1609, 1613, 1619, 1621, 1627, 1637, 1657, 1663, 1667, 1669, 1693, 1697, 1699, 1709, 1721, 1723, 1733, 1741, 1747, 1753, 1759, 1777, 1783, 1787, 1789, 1801, 1811, 1823, 1831, 1847, 1861, 1867, 1871, 1873, 1877, 1879, 1889, 1901, 1907, 1913, 1931, 1933, 1949, 1951, 1973, 1979, 1987, 1993, 1997, 1999, 2003, 2011, 2017, 2027, 2029, 2039, 2053, 2063, 2069, 2081, 2083, 2087, 2089, 2099, 2111, 2113, 2129, 2131, 2137, 2141, 2143, 2153, 2161, 2179, 2203, 2207, 2213, 2221, 2237, 2239, 2243, 2251, 2267, 2269, 2273, 2281, 2287, 2293, 2297, 2309, 2311, 2333, 2339, 2341, 2347, 2351, 2357, 2371, 2377, 2381, 2383, 2389, 2393, 2399, 2411, 2417, 2423, 2437, 2441, 2447, 2459, 2467, 2473, 2477, 2503, 2521, 2531, 2539, 2543, 2549, 2551, 2557, 2579, 2591, 2593, 2609, 2617, 2621, 2633, 2647, 2657, 2659, 2663, 2671, 2677, 2683, 2687, 2689, 2693, 2699, 2707, 2711, 2713, 2719, 2729, 2731, 2741, 2749, 2753, 2767, 2777, 2789, 2791, 2797, 2801, 2803, 2819, 2833, 2837, 2843, 2851, 2857, 2861, 2879, 2887, 2897, 2903, 2909, 2917, 2927, 2939, 2953, 2957, 2963, 2969, 2971, 2999, 3001, 3011, 3019, 3023, 3037, 3041, 3049, 3061, 3067, 3079, 3083, 3089, 3109, 3119, 3121, 3137, 3163, 3167, 3169, 3181, 3187, 3191, 3203, 3209, 3217, 3221, 3229, 3251, 3253, 3257, 3259, 3271, 3299, 3301, 3307, 3313, 3319, 3323, 3329, 3331, 3343, 3347, 3359, 3361, 3371, 3373, 3389, 3391, 3407, 3413, 3433, 3449, 3457, 3461, 3463, 3467, 3469, 3491, 3499, 3511, 3517, 3527, 3529, 3533, 3539, 3541, 3547, 3557, 3559, 3571, 3581, 3583, 3593, 3607, 3613, 3617, 3623, 3631, 3637, 3643, 3659, 3671, 3673, 3677, 3691, 3697, 3701, 3709, 3719, 3727, 3733, 3739, 3761, 3767, 3769, 3779, 3793, 3797, 3803, 3821, 3823, 3833, 3847, 3851, 3853, 3863, 3877, 3881, 3889, 3907, 3911, 3917, 3919, 3923, 3929, 3931, 3943, 3947, 3967, 3989, 4001, 4003, 4007, 4013, 4019, 4021, 4027, 4049, 4051, 4057, 4073, 4079, 4091, 4093, 4099, 4111, 4127, 4129, 4133, 4139, 4153, 4157, 4159, 4177, 4201, 4211, 4217, 4219, 4229, 4231, 4241, 4243, 4253, 4259, 4261, 4271, 4273, 4283, 4289, 4297, 4327, 4337, 4339, 4349, 4357, 4363, 4373, 4391, 4397, 4409, 4421, 4423, 4441, 4447, 4451, 4457, 4463, 4481, 4483, 4493, 4507, 4513, 4517, 4519, 4523, 4547, 4549, 4561, 4567, 4583, 4591, 4597, 4603, 4621, 4637, 4639, 4643, 4649, 4651, 4657, 4663, 4673, 4679, 4691, 4703, 4721, 4723, 4729, 4733, 4751, 4759, 4783, 4787, 4789, 4793, 4799, 4801, 4813, 4817, 4831, 4861, 4871, 4877, 4889, 4903, 4909, 4919, 4931, 4933, 4937, 4943, 4951, 4957, 4967, 4969, 4973, 4987, 4993, 4999, 5003, 5009, 5011, 5021, 5023, 5039, 5051, 5059, 5077, 5081, 5087, 5099, 5101, 5107, 5113, 5119, 5147, 5153, 5167, 5171, 5179, 5189, 5197, 5209, 5227, 5231, 5233, 5237, 5261, 5273, 5279, 5281, 5297, 5303, 5309, 5323, 5333, 5347, 5351, 5381, 5387, 5393, 5399, 5407, 5413, 5417, 5419, 5431, 5437, 5441, 5443, 5449, 5471, 5477, 5479, 5483, 5501, 5503, 5507, 5519, 5521, 5527, 5531, 5557, 5563, 5569, 5573, 5581, 5591, 5623, 5639, 5641, 5647, 5651, 5653, 5657, 5659, 5669, 5683, 5689, 5693, 5701, 5711, 5717, 5737, 5741, 5743, 5749, 5779, 5783, 5791, 5801, 5807, 5813, 5821, 5827, 5839, 5843, 5849, 5851, 5857, 5861, 5867, 5869, 5879, 5881, 5897, 5903, 5923, 5927, 5939, 5953, 5981, 5987, 6007, 6011, 6029, 6037, 6043, 6047, 6053, 6067, 6073, 6079, 6089, 6091, 6101, 6113, 6121, 6131, 6133, 6143, 6151, 6163, 6173, 6197, 6199, 6203, 6211, 6217, 6221, 6229, 6247, 6257, 6263, 6269, 6271, 6277, 6287, 6299, 6301, 6311, 6317, 6323, 6329, 6337, 6343, 6353, 6359, 6361, 6367, 6373, 6379, 6389, 6397, 6421, 6427, 6449, 6451, 6469, 6473, 6481, 6491, 6521, 6529, 6547, 6551, 6553, 6563, 6569, 6571, 6577, 6581, 6599, 6607, 6619, 6637, 6653, 6659, 6661, 6673, 6679, 6689, 6691, 6701, 6703, 6709, 6719, 6733, 6737, 6761, 6763, 6779, 6781, 6791, 6793, 6803, 6823, 6827, 6829, 6833, 6841, 6857, 6863, 6869, 6871, 6883, 6899, 6907, 6911, 6917, 6947, 6949, 6959, 6961, 6967, 6971, 6977, 6983, 6991, 6997, 7001, 7013, 7019, 7027, 7039, 7043, 7057, 7069, 7079, 7103, 7109, 7121, 7127, 7129, 7151, 7159, 7177, 7187, 7193, 7207, 7211, 7213, 7219, 7229, 7237, 7243, 7247, 7253, 7283, 7297, 7307, 7309, 7321, 7331, 7333, 7349, 7351, 7369, 7393, 7411, 7417, 7433, 7451, 7457, 7459, 7477, 7481, 7487, 7489, 7499, 7507, 7517, 7523, 7529, 7537, 7541, 7547, 7549, 7559, 7561, 7573, 7577, 7583, 7589, 7591, 7603, 7607, 7621, 7639, 7643, 7649, 7669, 7673, 7681, 7687, 7691, 7699, 7703, 7717, 7723, 7727, 7741, 7753, 7757, 7759, 7789, 7793, 7817, 7823, 7829, 7841, 7853, 7867, 7873, 7877, 7879, 7883, 7901, 7907, 7919]\n"
     ]
    }
   ],
   "source": [
    "# Verify both lists are the same\n",
    "assert primes_sieve == primes_trial, \"The algorithms produced different results!\"\n",
    "\n",
    "print(\"Successfully generated the first 100 prime numbers using both methods.\")\n",
    "print(\"Sieve of Eratosthenes:\", primes_sieve)\n",
    "print(\"Trial Division:\", primes_trial)"
   ]
  },
  {
   "cell_type": "markdown",
   "metadata": {},
   "source": [
    "# Task 5: Computing Fractional Parts of Square Roots\n",
    "\n",
    "This Task calculates the first 32 bits of the fractional part of the square roots of the first 100 prime numbers. These values are useful in cryptographic functions like SHA-256.\n",
    "\n",
    "References:\n",
    "- Prime Numbers: https://primes.utm.edu/\n",
    "- Floating-Point Representation: https://en.wikipedia.org/wiki/IEEE_754\n",
    "- SHA-2 Constants: https://en.wikipedia.org/wiki/SHA-2"
   ]
  },
  {
   "cell_type": "code",
   "execution_count": 30,
   "metadata": {},
   "outputs": [],
   "source": [
    "import math\n",
    "import numpy as np\n",
    "def first_n_primes(n):\n",
    "    primes = []\n",
    "    candidate = 2\n",
    "    while len(primes) < n:\n",
    "        is_prime = all(candidate % p != 0 for p in primes if p * p <= candidate)\n",
    "        if is_prime:\n",
    "            primes.append(candidate)\n",
    "        candidate += 1\n",
    "    return primes\n"
   ]
  },
  {
   "cell_type": "markdown",
   "metadata": {},
   "source": [
    "\n",
    "    Computes the first `bit_length` bits of the fractional part of the square root for a given list of prime numbers.\n",
    "    \n",
    "    Args:\n",
    "        primes (list): List of prime numbers.\n",
    "        bit_length (int): Number of bits to extract from the fractional part.\n",
    "    \n",
    "    Returns:\n",
    "        list: List of integers representing the extracted bits.\n",
    "    "
   ]
  },
  {
   "cell_type": "code",
   "execution_count": 31,
   "metadata": {},
   "outputs": [],
   "source": [
    "def fractional_sqrt_bits(primes, bit_length=32):\n",
    "    results = []\n",
    "    for prime in primes:\n",
    "        sqrt_fractional = math.sqrt(prime) % 1  # Get fractional part of square root\n",
    "        extracted_bits = int(sqrt_fractional * (2**bit_length))  # Extract first `bit_length` bits\n",
    "        results.append(extracted_bits)\n",
    "    return results"
   ]
  },
  {
   "cell_type": "code",
   "execution_count": 32,
   "metadata": {},
   "outputs": [
    {
     "name": "stdout",
     "output_type": "stream",
     "text": [
      "Prime: 2, Fractional Bits (32-bit): 01101010000010011110011001100111\n",
      "Prime: 3, Fractional Bits (32-bit): 10111011011001111010111010000101\n",
      "Prime: 5, Fractional Bits (32-bit): 00111100011011101111001101110010\n",
      "Prime: 7, Fractional Bits (32-bit): 10100101010011111111010100111010\n",
      "Prime: 11, Fractional Bits (32-bit): 01010001000011100101001001111111\n",
      "Prime: 13, Fractional Bits (32-bit): 10011011000001010110100010001100\n",
      "Prime: 17, Fractional Bits (32-bit): 00011111100000111101100110101011\n",
      "Prime: 19, Fractional Bits (32-bit): 01011011111000001100110100011001\n",
      "Prime: 23, Fractional Bits (32-bit): 11001011101110111001110101011101\n",
      "Prime: 29, Fractional Bits (32-bit): 01100010100110100010100100101010\n",
      "Prime: 31, Fractional Bits (32-bit): 10010001010110010000000101011010\n",
      "Prime: 37, Fractional Bits (32-bit): 00010101001011111110110011011000\n",
      "Prime: 41, Fractional Bits (32-bit): 01100111001100110010011001100111\n",
      "Prime: 43, Fractional Bits (32-bit): 10001110101101000100101010000111\n",
      "Prime: 47, Fractional Bits (32-bit): 11011011000011000010111000001101\n",
      "Prime: 53, Fractional Bits (32-bit): 01000111101101010100100000011101\n",
      "Prime: 59, Fractional Bits (32-bit): 10101110010111111001000101010110\n",
      "Prime: 61, Fractional Bits (32-bit): 11001111011011001000010111010011\n",
      "Prime: 67, Fractional Bits (32-bit): 00101111011100110100011101111101\n",
      "Prime: 71, Fractional Bits (32-bit): 01101101000110000010011011001010\n",
      "Prime: 73, Fractional Bits (32-bit): 10001011010000111101010001010111\n",
      "Prime: 79, Fractional Bits (32-bit): 11100011011000001011010110010110\n",
      "Prime: 83, Fractional Bits (32-bit): 00011100010001010110000000000010\n",
      "Prime: 89, Fractional Bits (32-bit): 01101111000110010110001100110001\n",
      "Prime: 97, Fractional Bits (32-bit): 11011001010011101011111010110001\n",
      "Prime: 101, Fractional Bits (32-bit): 00001100110001001010011000010001\n",
      "Prime: 103, Fractional Bits (32-bit): 00100110000111011100000111110010\n",
      "Prime: 107, Fractional Bits (32-bit): 01011000000101011010011110111110\n",
      "Prime: 109, Fractional Bits (32-bit): 01110000101101111110110101100111\n",
      "Prime: 113, Fractional Bits (32-bit): 10100001010100010011110001101001\n",
      "Prime: 127, Fractional Bits (32-bit): 01000100111110010011011000110101\n",
      "Prime: 131, Fractional Bits (32-bit): 01110010000011011100110111111101\n",
      "Prime: 137, Fractional Bits (32-bit): 10110100011001110011011010011110\n",
      "Prime: 139, Fractional Bits (32-bit): 11001010001100100000101101110101\n",
      "Prime: 149, Fractional Bits (32-bit): 00110100111000001101010000101110\n",
      "Prime: 151, Fractional Bits (32-bit): 01001001110001111101100110111101\n",
      "Prime: 157, Fractional Bits (32-bit): 10000111101010111011100111110010\n",
      "Prime: 163, Fractional Bits (32-bit): 11000100011000111010001011111100\n",
      "Prime: 167, Fractional Bits (32-bit): 11101100001111111100001111110011\n",
      "Prime: 173, Fractional Bits (32-bit): 00100111001001110111111101101101\n",
      "Prime: 179, Fractional Bits (32-bit): 01100001000010111110101111110010\n",
      "Prime: 181, Fractional Bits (32-bit): 01110100001000001011010010011110\n",
      "Prime: 191, Fractional Bits (32-bit): 11010001111111011000101000110011\n",
      "Prime: 193, Fractional Bits (32-bit): 11100100011101110011010110010100\n",
      "Prime: 197, Fractional Bits (32-bit): 00001001001000011001011111110110\n",
      "Prime: 199, Fractional Bits (32-bit): 00011011010100110000110010010101\n",
      "Prime: 211, Fractional Bits (32-bit): 10000110100111010110001101000010\n",
      "Prime: 223, Fractional Bits (32-bit): 11101110111001010010111001001111\n",
      "Prime: 227, Fractional Bits (32-bit): 00010001000001110110011010001001\n",
      "Prime: 229, Fractional Bits (32-bit): 00100001111110111010001101111011\n",
      "Prime: 233, Fractional Bits (32-bit): 01000011101010111001111110110110\n",
      "Prime: 239, Fractional Bits (32-bit): 01110101101010011111100100011101\n",
      "Prime: 241, Fractional Bits (32-bit): 10000110001100000101000000011001\n",
      "Prime: 251, Fractional Bits (32-bit): 11010111110011011000000101110011\n",
      "Prime: 257, Fractional Bits (32-bit): 00000111111111100000000011111111\n",
      "Prime: 263, Fractional Bits (32-bit): 00110111100111110101000100111111\n",
      "Prime: 269, Fractional Bits (32-bit): 01100110101101100101000110101000\n",
      "Prime: 271, Fractional Bits (32-bit): 01110110010010101011100001000010\n",
      "Prime: 277, Fractional Bits (32-bit): 10100100101100000110101111100001\n",
      "Prime: 281, Fractional Bits (32-bit): 11000011010101111000110000010101\n",
      "Prime: 283, Fractional Bits (32-bit): 11010010100101100010101001010011\n",
      "Prime: 293, Fractional Bits (32-bit): 00011110000000111001111101000000\n",
      "Prime: 307, Fractional Bits (32-bit): 10000101011110110111101111101110\n",
      "Prime: 311, Fractional Bits (32-bit): 10100010100110111111001011011110\n",
      "Prime: 313, Fractional Bits (32-bit): 10110001000110100011001011101000\n",
      "Prime: 317, Fractional Bits (32-bit): 11001101111100110100111010000000\n",
      "Prime: 331, Fractional Bits (32-bit): 00110001100000110000010000100110\n",
      "Prime: 337, Fractional Bits (32-bit): 01011011100010010000100100101011\n",
      "Prime: 347, Fractional Bits (32-bit): 10100000110000000110101000010011\n",
      "Prime: 349, Fractional Bits (32-bit): 10101110011110011000010000101111\n",
      "Prime: 353, Fractional Bits (32-bit): 11001001110011011010011010001001\n",
      "Prime: 359, Fractional Bits (32-bit): 11110010100000011111001000111001\n",
      "Prime: 367, Fractional Bits (32-bit): 00101000010000010010010110010010\n",
      "Prime: 373, Fractional Bits (32-bit): 01010000001011100110010011011011\n",
      "Prime: 379, Fractional Bits (32-bit): 01110111110010011100001000010001\n",
      "Prime: 383, Fractional Bits (32-bit): 10010010000001001100110110011101\n",
      "Prime: 389, Fractional Bits (32-bit): 10111001000110111111011001100011\n",
      "Prime: 397, Fractional Bits (32-bit): 11101100110000111000110010011101\n",
      "Prime: 401, Fractional Bits (32-bit): 00000110011001010110000010010101\n",
      "Prime: 409, Fractional Bits (32-bit): 00111001010001111001001110000001\n",
      "Prime: 419, Fractional Bits (32-bit): 01111000001100000111011010010111\n",
      "Prime: 421, Fractional Bits (32-bit): 10000100101011100100101101111100\n",
      "Prime: 431, Fractional Bits (32-bit): 11000010101100101011011101010101\n",
      "Prime: 433, Fractional Bits (32-bit): 11001111000000111101001000001110\n",
      "Prime: 439, Fractional Bits (32-bit): 11110011110010111011000100010111\n",
      "Prime: 443, Fractional Bits (32-bit): 00001100001011010011101101001011\n",
      "Prime: 449, Fractional Bits (32-bit): 00110000100010101111000101100001\n",
      "Prime: 457, Fractional Bits (32-bit): 01100000101001111010100110011000\n",
      "Prime: 461, Fractional Bits (32-bit): 01111000100011011001100000010010\n",
      "Prime: 463, Fractional Bits (32-bit): 10000100011101101001101101000010\n",
      "Prime: 467, Fractional Bits (32-bit): 10011100001101001111000001100010\n",
      "Prime: 479, Fractional Bits (32-bit): 11100010110101010110010011000100\n",
      "Prime: 487, Fractional Bits (32-bit): 00010001011011010111010111111101\n",
      "Prime: 491, Fractional Bits (32-bit): 00101000100101001100000100000111\n",
      "Prime: 499, Fractional Bits (32-bit): 01010110100110110101100011000110\n",
      "Prime: 503, Fractional Bits (32-bit): 01101101011110110011100100111001\n",
      "Prime: 509, Fractional Bits (32-bit): 10001111100111111000110110111011\n",
      "Prime: 521, Fractional Bits (32-bit): 11010011010011110000001111001101\n",
      "Prime: 523, Fractional Bits (32-bit): 11011110100000110111001011101111\n",
      "Prime: 541, Fractional Bits (32-bit): 01000010011010000111101000111001\n"
     ]
    }
   ],
   "source": [
    "\n",
    "# Compute the first 100 prime numbers\n",
    "primes_100 = first_n_primes(100)\n",
    "\n",
    "# Compute fractional bits\n",
    "fractional_bits = fractional_sqrt_bits(primes_100)\n",
    "\n",
    "# Display results\n",
    "for prime, bits in zip(primes_100, fractional_bits):\n",
    "    print(f\"Prime: {prime}, Fractional Bits (32-bit): {bits:032b}\")"
   ]
  },
  {
   "cell_type": "markdown",
   "metadata": {},
   "source": [
    "## Task 6  Proof of Work"
   ]
  },
  {
   "cell_type": "markdown",
   "metadata": {},
   "source": [
    "Find the words in the English language with the greatest number of leading 0 bits in their SHA256 hash digest. The task involves:\n",
    "\n",
    "1. Iterating through a list of English words.\n",
    "\n",
    "2. Computing the SHA256 hash of each word.\n",
    "\n",
    "3. Counting the number of leading 0 bits in the hash.\n",
    "\n",
    "4. Identifying the words with the maximum number of leading 0 bits.\n",
    " \n",
    "5. Providing proof that the words are in at least one English dictionary."
   ]
  },
  {
   "cell_type": "markdown",
   "metadata": {},
   "source": [
    "# Step 1: Load a List of English Words\n",
    "Use the nltk.corpus.words corpus to access a list of English words."
   ]
  },
  {
   "cell_type": "code",
   "execution_count": null,
   "metadata": {},
   "outputs": [
    {
     "name": "stdout",
     "output_type": "stream",
     "text": [
      "Total words: 236736\n"
     ]
    },
    {
     "name": "stderr",
     "output_type": "stream",
     "text": [
      "[nltk_data] Error loading Resources/uk-us-dict.txt: Package\n",
      "[nltk_data]     'Resources/uk-us-dict.txt' not found in index\n"
     ]
    }
   ],
   "source": [
    "import nltk\n",
    "from nltk.corpus import words\n",
    "\n",
    "# Download the words corpus if not already downloaded\n",
    "nltk.download('Resources/uk-us-dict.txt')\n",
    "\n",
    "# Load the list of English words\n",
    "english_words = words.words()\n",
    "print(f\"Total words: {len(english_words)}\")"
   ]
  },
  {
   "cell_type": "markdown",
   "metadata": {},
   "source": [
    "# Step 2: Compute SHA256 Hash and Count Leading 0 Bits\n",
    "For each word, compute its SHA256 hash and count the number of leading 0 bits."
   ]
  },
  {
   "cell_type": "code",
   "execution_count": null,
   "metadata": {},
   "outputs": [
    {
     "name": "stdout",
     "output_type": "stream",
     "text": [
      "Word(s) with the most leading 0 bits: ['guilefulness', 'mismatchment']\n",
      "Number of leading 0 bits: 16\n"
     ]
    }
   ],
   "source": [
    "import hashlib\n",
    "\n",
    "def count_leading_zero_bits(hash_hex):\n",
    "    \"\"\"\n",
    "    Count the number of leading 0 bits in a SHA256 hash.\n",
    "\n",
    "    Args:\n",
    "        hash_hex (str): SHA256 hash in hexadecimal format.\n",
    "\n",
    "    Returns:\n",
    "        int: Number of leading 0 bits.\n",
    "    \"\"\"\n",
    "    hash_bin = bin(int(hash_hex, 16))[2:].zfill(256)  # Convert to 256-bit binary\n",
    "    return len(hash_bin) - len(hash_bin.lstrip('0'))\n",
    "\n",
    "# Find the word(s) with the most leading 0 bits\n",
    "max_zero_bits = 0\n",
    "best_words = []\n",
    "\n",
    "for word in english_words:\n",
    "    hash_hex = hashlib.sha256(word.encode()).hexdigest()\n",
    "    zero_bits = count_leading_zero_bits(hash_hex)\n",
    "    \n",
    "    if zero_bits > max_zero_bits:\n",
    "        max_zero_bits = zero_bits\n",
    "        best_words = [word]\n",
    "    elif zero_bits == max_zero_bits:\n",
    "        best_words.append(word)\n",
    "\n",
    "print(f\"Word(s) with the most leading 0 bits: {best_words}\")\n",
    "print(f\"Number of leading 0 bits: {max_zero_bits}\")"
   ]
  },
  {
   "cell_type": "markdown",
   "metadata": {},
   "source": [
    "# Step 3: Verify Words in a Dictionary\n",
    "To prove that the words are in an English dictionary, we can check their presence in the nltk.corpus.words corpus."
   ]
  },
  {
   "cell_type": "code",
   "execution_count": null,
   "metadata": {},
   "outputs": [
    {
     "name": "stdout",
     "output_type": "stream",
     "text": [
      "'guilefulness' is in the English dictionary.\n",
      "'mismatchment' is in the English dictionary.\n"
     ]
    }
   ],
   "source": [
    "# Verify that the best word(s) are in the dictionary\n",
    "for word in best_words:\n",
    "    if word in english_words:\n",
    "        print(f\"'{word}' is in the English dictionary.\")\n",
    "    else:\n",
    "        print(f\"'{word}' is NOT in the English dictionary.\")"
   ]
  },
  {
   "cell_type": "markdown",
   "metadata": {},
   "source": [
    "# References (For readme later)\n",
    "SHA256 Hashing:\n",
    "\n",
    "Name: Python Documentation - hashlib.sha256\n",
    "\n",
    "Link: https://docs.python.org/3/library/hashlib.html\n",
    "\n",
    "NLTK Words Corpus:\n",
    "\n",
    "Name: NLTK Documentation - nltk.corpus.words\n",
    "\n",
    "Link: https://www.nltk.org/api/nltk.corpus.html\n",
    "\n",
    "Proof of Work:\n",
    "\n",
    "Name: Wikipedia - \"Proof of Work\"\n",
    "\n",
    "Link: https://en.wikipedia.org/wiki/Proof_of_work"
   ]
  },
  {
   "cell_type": "markdown",
   "metadata": {},
   "source": [
    "## Task 7 Turing Machines"
   ]
  },
  {
   "cell_type": "markdown",
   "metadata": {},
   "source": [
    "Designing a Turing Machine that adds 1 to a binary number on its tape, starting at the left-most non-blank symbol and treating the right-most symbol as the least significant bit."
   ]
  },
  {
   "cell_type": "code",
   "execution_count": 36,
   "metadata": {},
   "outputs": [],
   "source": [
    "class TuringMachine:\n",
    "    def __init__(self, tape, initial_state='q0', head_position=0):\n",
    "        \"\"\"\n",
    "        Initialize the Turing Machine with tape, initial state, and head position\n",
    "        \n",
    "        Args:\n",
    "            tape (str): Input tape containing the binary number\n",
    "            initial_state (str): Starting state of the machine\n",
    "            head_position (int): Initial position of the head\n",
    "        \"\"\"\n",
    "        self.tape = list(tape)\n",
    "        self.state = initial_state\n",
    "        self.head = head_position\n",
    "        self.transitions = {\n",
    "            'q0': {'0': ('0', 'R', 'q0'),\n",
    "                   '1': ('1', 'R', 'q0'),\n",
    "                   '_': ('_', 'L', 'q1')},\n",
    "            'q1': {'0': ('1', 'L', 'q2'),\n",
    "                   '1': ('0', 'L', 'q1'),\n",
    "                   '_': ('1', 'H', 'halt')},\n",
    "            'q2': {'0': ('0', 'H', 'halt'),\n",
    "                   '1': ('1', 'H', 'halt'),\n",
    "                   '_': ('_', 'H', 'halt')}\n",
    "        }"
   ]
  },
  {
   "cell_type": "code",
   "execution_count": 37,
   "metadata": {},
   "outputs": [],
   "source": [
    "def step(self):\n",
    "    \"\"\"\n",
    "    Execute one step of the Turing Machine\n",
    "    \n",
    "    Returns:\n",
    "        bool: True if machine should continue, False if halted\n",
    "    \"\"\"\n",
    "    # Handle tape expansion if head moves beyond current tape\n",
    "    if self.head < 0:\n",
    "        self.tape.insert(0, '_')\n",
    "        self.head = 0\n",
    "    elif self.head >= len(self.tape):\n",
    "        self.tape.append('_')\n",
    "        \n",
    "    current_symbol = self.tape[self.head]\n",
    "    \n",
    "    # Get transition rules for current state and symbol\n",
    "    if current_symbol not in self.transitions[self.state]:\n",
    "        raise ValueError(f\"No transition for state {self.state} and symbol {current_symbol}\")\n",
    "    \n",
    "    write_symbol, move, new_state = self.transitions[self.state][current_symbol]\n",
    "    \n",
    "    # Write symbol to tape\n",
    "    self.tape[self.head] = write_symbol\n",
    "    \n",
    "    # Move head\n",
    "    if move == 'R':\n",
    "        self.head += 1\n",
    "    elif move == 'L':\n",
    "        self.head -= 1\n",
    "    \n",
    "    # Update state\n",
    "    self.state = new_state\n",
    "    \n",
    "    return self.state != 'halt'"
   ]
  },
  {
   "cell_type": "code",
   "execution_count": null,
   "metadata": {},
   "outputs": [],
   "source": [
    "def run(self):\n",
    "    \"\"\"\n",
    "    Run the Turing Machine until it halts\n",
    "    \n",
    "    Returns:\n",
    "        str: Final tape contents (without trailing blanks)\n",
    "    \"\"\"\n",
    "    while self.step():\n",
    "        pass\n",
    "    # Convert tape to string and remove trailing blanks\n",
    "    return ''.join(self.tape).rstrip('_')\n",
    "\n"
   ]
  },
  {
   "cell_type": "markdown",
   "metadata": {},
   "source": [
    "## References\n",
    "\n",
    "1. **Turing Machine Basics**:\n",
    "   - [Wikipedia: Turing Machine](https://en.wikipedia.org/wiki/Turing_machine)\n",
    "   - Covers fundamental concepts of Turing Machines\n",
    "\n",
    "2. **Binary Arithmetic**:\n",
    "   - [Binary Addition](https://www.cs.umd.edu/class/sum2003/cmsc311/Notes/BinMath/add.html)\n",
    "   - Explains binary addition and carry propagation\n",
    "\n",
    "3. **Formal Language Theory**:\n",
    "   - [Hopcroft & Ullman: Introduction to Automata Theory](https://www.pearson.com/us/higher-education/program/Hopcroft-Introduction-to-Automata-Theory-Languages-and-Computation-3rd-Edition/PGM64317.html)\n",
    "   - Standard textbook reference for Turing Machines"
   ]
  },
  {
   "cell_type": "code",
   "execution_count": null,
   "metadata": {},
   "outputs": [],
   "source": [
    "def test_binary_incrementer():\n",
    "    \"\"\"\n",
    "    Test the binary incrementer Turing Machine with various test cases\n",
    "    \"\"\"\n",
    "    test_cases = [\n",
    "        (\"100111\", \"101000\"),  # 39 (100111) + 1 = 40 (101000)\n",
    "        (\"111\", \"1000\"),       # 7 + 1 = 8\n",
    "        (\"0\", \"1\"),            # 0 + 1 = 1\n",
    "        (\"1\", \"10\"),           # 1 + 1 = 2\n",
    "        (\"101010\", \"101011\"),  # 42 + 1 = 43\n",
    "        (\"111111\", \"1000000\"), # 63 + 1 = 64\n",
    "        (\"\", \"1\"),             # Empty tape case\n",
    "    ]\n",
    "    \n",
    "    for input_tape, expected_output in test_cases:\n",
    "        tm = TuringMachine(input_tape)\n",
    "        result = tm.run()\n",
    "        print(f\"Input: {input_tape} -> Output: {result}\")\n",
    "        assert result == expected_output, f\"Test failed: {input_tape} -> {result} (expected {expected_output})\"\n",
    "    \n",
    "    print(\"All tests passed!\")"
   ]
  },
  {
   "cell_type": "markdown",
   "metadata": {},
   "source": [
    "## Task 8 Computational Complexity"
   ]
  },
  {
   "cell_type": "markdown",
   "metadata": {},
   "source": []
  },
  {
   "cell_type": "code",
   "execution_count": null,
   "metadata": {},
   "outputs": [],
   "source": [
    "from itertools import permutations\n",
    "from statistics import mean\n",
    "\n",
    "def bubble_sort_with_comparison_count(arr):\n",
    "    \"\"\"\n",
    "    Bubble Sort that counts the number of comparisons.\n",
    "    Returns the number of comparisons made while sorting the array.\n",
    "    \"\"\"\n",
    "    comparisons = 0\n",
    "    n = len(arr)\n",
    "    arr = arr.copy()\n",
    "    for i in range(n):\n",
    "        for j in range(0, n - i - 1):\n",
    "            comparisons += 1\n",
    "            if arr[j] > arr[j + 1]:\n",
    "                arr[j], arr[j + 1] = arr[j + 1], arr[j]\n",
    "    return comparisons\n",
    "\n",
    "# List to permute\n",
    "L = [1, 2, 3, 4, 5]\n",
    "\n",
    "# Store results\n",
    "results = []\n",
    "\n"
   ]
  },
  {
   "cell_type": "markdown",
   "metadata": {},
   "source": []
  },
  {
   "cell_type": "code",
   "execution_count": null,
   "metadata": {},
   "outputs": [],
   "source": []
  }
 ],
 "metadata": {
  "kernelspec": {
   "display_name": "Python 3",
   "language": "python",
   "name": "python3"
  },
  "language_info": {
   "codemirror_mode": {
    "name": "ipython",
    "version": 3
   },
   "file_extension": ".py",
   "mimetype": "text/x-python",
   "name": "python",
   "nbconvert_exporter": "python",
   "pygments_lexer": "ipython3",
   "version": "3.12.1"
  }
 },
 "nbformat": 4,
 "nbformat_minor": 2
}
