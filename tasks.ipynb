{
 "cells": [
  {
   "cell_type": "markdown",
   "metadata": {},
   "source": [
    "## Task 1 Binary Representations\n",
    "# Binary Operations in Python\n",
    "\n",
    "This Jupyter Notebook explores fundamental binary operations in Python. \n",
    "We will implement functions for bitwise rotations, selection, and majority voting, \n",
    "all essential for cryptographic and low-level computing tasks.\n",
    "\n",
    "Links:\n",
    "- Bitwise operations in Python: https://realpython.com/python-bitwise-operators/\n",
    "- SHA-256 Bitwise Operations: https://en.wikipedia.org/wiki/SHA-2\n"
   ]
  },
  {
   "cell_type": "code",
   "execution_count": 65,
   "metadata": {},
   "outputs": [],
   "source": [
    "# Import required libraries\n",
    "import numpy as np"
   ]
  },
  {
   "cell_type": "markdown",
   "metadata": {},
   "source": [
    "## Left Rotation (rotl)\n",
    "This function rotates the bits of a 32-bit unsigned integer to the left by `n` places.\n",
    "It ensures that the bit shifts stay within 32 bits by using a bitwise AND mask (0xFFFFFFFF).\n",
    "\n",
    "E.G:\n",
    "num = 7 (00000000000000000000000000000111 in binary)\n",
    "rotl(num, 2) -> 28 (00000000000000000000000000011100 in binary)\n",
    "\n",
    "Link: https://en.wikipedia.org/wiki/Circular_shift"
   ]
  },
  {
   "cell_type": "code",
   "execution_count": 66,
   "metadata": {},
   "outputs": [],
   "source": [
    "def rotl(x, n=1):\n",
    "    #Rotate the bits of a 32-bit unsigned integer to the left by n places.\n",
    "    n = n % 32  # Ensure n is within a valid range\n",
    "    return ((x << n) & 0xFFFFFFFF) | (x >> (32 - n))"
   ]
  },
  {
   "cell_type": "markdown",
   "metadata": {},
   "source": [
    "# Right Rotation (rotr)This function rotates the bits of a 32-bit unsigned integer to the right by `n` places.\n",
    "\n",
    "E.G:\n",
    "num = 7 (00000000000000000000000000000111 in binary)\n",
    "rotr(num, 2) -> 3221225472 (11000000000000000000000000000000 in binary)"
   ]
  },
  {
   "cell_type": "code",
   "execution_count": 67,
   "metadata": {},
   "outputs": [],
   "source": [
    "def rotr(x, n=1):\n",
    "    n = n % 32  # make sure n is within a valid range\n",
    "    return ((x >> n) | (x << (32 - n))) & 0xFFFFFFFF"
   ]
  },
  {
   "cell_type": "markdown",
   "metadata": {},
   "source": [
    "## Binary Representation (bin_representation)\n",
    "This function returns a 32-bit binary representation of a number as a string.\n",
    "\n",
    "E.G:\n",
    "num = 7\n",
    "bin_representation(num) -> \"00000000000000000000000000000111\"\n",
    "\n",
    "\n",
    "Reference: https://realpython.com/python-bitwise-operators/"
   ]
  },
  {
   "cell_type": "code",
   "execution_count": 68,
   "metadata": {},
   "outputs": [],
   "source": [
    "def bin_representation(n):\n",
    "#Return the 32-bit binary representation of a number.\n",
    "    binary_str = \"\"\n",
    "    for i in range(31, -1, -1):\n",
    "        binary_str += \"1\" if n & (1 << i) else \"0\"\n",
    "    return binary_str\n"
   ]
  },
  {
   "cell_type": "markdown",
   "metadata": {},
   "source": [
    "## Choose Function (ch)\n",
    "This function implements the bitwise Choose (CH) operation used in cryptographic hash functions like SHA-256.\n",
    "It selects bits from `y` where `x` has bits set to 1 and bits from `z` where `x` has bits set to 0.\n",
    "\n",
    "Formula: `ch(x, y, z) = (x & y) ^ (~x & z)`\n",
    "\n",
    "E.G:\n",
    "x = 0b1100, y = 0b1010, z = 0b0110\n",
    "ch(x, y, z) -> 0b1010\n",
    "\n",
    "\n",
    "Reference: https://en.wikipedia.org/wiki/SHA-2"
   ]
  },
  {
   "cell_type": "code",
   "execution_count": 69,
   "metadata": {},
   "outputs": [],
   "source": [
    "def ch(x, y, z):\n",
    "    return (x & y) ^ (~x & z)\n",
    "# Example values (in binary)\n",
    "x = 0b1100  # 12 in decimal\n",
    "y = 0b1010  # 10 in decimal\n",
    "z = 0b0110  # 6 in decimal\n",
    "\n",
    "\n"
   ]
  },
  {
   "cell_type": "code",
   "execution_count": 70,
   "metadata": {},
   "outputs": [
    {
     "name": "stdout",
     "output_type": "stream",
     "text": [
      "Result (Binary): 0b1010\n",
      "Result (Decimal): 10\n"
     ]
    }
   ],
   "source": [
    "# Testing and displaying results\n",
    "\n",
    "# Call the function\n",
    "result = ch(x, y, z)\n",
    "\n",
    "# Print the result in binary and decimal\n",
    "print(f\"Result (Binary): {bin(result)}\")\n",
    "print(f\"Result (Decimal): {result}\")"
   ]
  },
  {
   "cell_type": "markdown",
   "metadata": {},
   "source": [
    "## Majority Function (maj)\n",
    "This function takes a majority vote of the bits in x, y, and z.\n",
    "It outputs a 1 in bit position `i` where at least two of `x, y, and z` have 1's in position `i`.\n",
    "All other output bit positions should be 0.\n",
    "\n",
    "Formula: `maj(x, y, z) = (x & y) ^ (x & z) ^ (y & z)`\n",
    "\n",
    "E.G:\n",
    "x = 0b1100, y = 0b1010, z = 0b0110\n",
    "maj(x, y, z) -> 0b1110\n",
    "\n",
    "Reference: https://en.wikipedia.org/wiki/Majority_function"
   ]
  },
  {
   "cell_type": "code",
   "execution_count": 71,
   "metadata": {},
   "outputs": [],
   "source": [
    "def maj(x, y, z):\n",
    "    return (x & y) ^ (x & z) ^ (y & z)"
   ]
  },
  {
   "cell_type": "markdown",
   "metadata": {},
   "source": [
    "## Main Function\n",
    "This function demonstrates the implemented bitwise operations with example cases."
   ]
  },
  {
   "cell_type": "code",
   "execution_count": 72,
   "metadata": {},
   "outputs": [
    {
     "name": "stdout",
     "output_type": "stream",
     "text": [
      "Original: 00000000000000000000000000000111\n",
      "Rotated : 00000000000000000000000000011100\n",
      "Rotated Right : 11100000000000000000000000000000\n",
      "CH(x, y, z): 00000000000000000000000000001010\n",
      "MAJ(x, y, z): 00000000000000000000000000001110\n"
     ]
    }
   ],
   "source": [
    "def main():\n",
    "    num = 7  # number\n",
    "    rotated = rotl(num, 2)  # Rotate left by 2 bits\n",
    "    print(f\"Original: {bin_representation(num)}\")\n",
    "    print(f\"Rotated : {bin_representation(rotated)}\")\n",
    "\n",
    "    # num = 4\n",
    "    # rotated = rotl(num, 3)  # Rotate left by 3 bits\n",
    "    # print(f\"Original: {bin_representation(num)}\")\n",
    "    # print(f\"Rotated : {bin_representation(rotated)}\")\n",
    "    \n",
    "    # Demonstrate rotr\n",
    "    rotated_right = rotr(num, 3)\n",
    "    print(f\"Rotated Right : {bin_representation(rotated_right)}\")\n",
    "    \n",
    "    # Demonstrate ch function\n",
    "    x, y, z = 0b1100, 0b1010, 0b0110\n",
    "    print(f\"CH(x, y, z): {bin_representation(ch(x, y, z))}\")\n",
    "    \n",
    "    # Demonstrate maj function\n",
    "    print(f\"MAJ(x, y, z): {bin_representation(maj(x, y, z))}\")\n",
    "\n",
    "if __name__ == \"__main__\":\n",
    "    main()"
   ]
  },
  {
   "cell_type": "markdown",
   "metadata": {},
   "source": [
    "## Task 2 Hash Functions"
   ]
  },
  {
   "cell_type": "markdown",
   "metadata": {},
   "source": [
    "\n",
    "# Hash Functions in Python\n",
    "\n",
    "This Task explores hash functions, specifically implementing and testing a hash function inspired by Brian Kernighan and Dennis Ritchie's C code. \n",
    "We are to convert the given C function to Python,\n",
    "**************************************************************\n",
    "unsigned hash(char *s) {\n",
    "    unsigned hashval;\n",
    "    for (hashval = 0; *s != '\\0'; s++)\n",
    "        hashval = *s + 31 * hashval;\n",
    "    return hashval % 101;\n",
    "} \n",
    "**************************************************************\n",
    "test it with different inputs, and analyse the choice of values 31 and 101.\n",
    "\n",
    "References:\n",
    "- Hash functions in C and Python: https://realpython.com/python-hash-functions/\n",
    "- Explanation of modular hashing: https://en.wikipedia.org/wiki/Hash_function\n",
    "\n",
    "\n"
   ]
  },
  {
   "cell_type": "markdown",
   "metadata": {},
   "source": [
    "## Hash Function Implementation\n",
    "This function replicates the C-style hash function in Python.\n",
    "It iterates through a given string, updating the hash value using multiplication and addition.\n",
    "\n",
    "Formula:\n",
    "hashval = ord(char) + 31 * hashval\n",
    "hashval = hashval % 101  # Ensure values fit within 101 buckets\n",
    "\n",
    "\n",
    "Reference: https://en.wikipedia.org/wiki/Hash_function"
   ]
  },
  {
   "cell_type": "code",
   "execution_count": 73,
   "metadata": {},
   "outputs": [],
   "source": [
    "def hash_function(s: str) -> int:\n",
    "    hashval = 0\n",
    "    for char in s:\n",
    "        hashval = ord(char) + 31 * hashval\n",
    "    return hashval % 101"
   ]
  },
  {
   "cell_type": "markdown",
   "metadata": {},
   "source": [
    "## Testing the Hash Function"
   ]
  },
  {
   "cell_type": "code",
   "execution_count": 74,
   "metadata": {},
   "outputs": [
    {
     "name": "stdout",
     "output_type": "stream",
     "text": [
      "Hash('hello') = 17\n",
      "Hash('world') = 34\n",
      "Hash('hash') = 15\n",
      "Hash('function') = 100\n",
      "Hash('python') = 91\n"
     ]
    }
   ],
   "source": [
    "# Test cases\n",
    "test_strings = [\"hello\", \"world\", \"hash\", \"function\", \"python\"]\n",
    "\n",
    "# Compute hashes\n",
    "hash_results = {s: hash_function(s) for s in test_strings}\n",
    "\n",
    "# Display results\n",
    "for key, value in hash_results.items():\n",
    "    print(f\"Hash('{key}') = {value}\")\n"
   ]
  },
  {
   "cell_type": "markdown",
   "metadata": {},
   "source": [
    "## Why Use 31 and 101?\n",
    "\n",
    "- 31 is a prime number, reducing the risk of collisions by spreading hash values more uniformly.\n",
    "- 101 is also a prime number, ensuring a good distribution when applying the modulus operation.\n",
    "- Using multiplication and modulus makes it an efficient rolling hash function, commonly used in text-based hashing algorithms like Rabin-Karp.\n",
    "\n",
    "Reference: https://en.wikipedia.org/wiki/Rabin%E2%80%93Karp_algorithm\n"
   ]
  },
  {
   "cell_type": "markdown",
   "metadata": {},
   "source": [
    "##  Task 3 SHA256"
   ]
  },
  {
   "cell_type": "markdown",
   "metadata": {},
   "source": [
    "# SHA-256 Padding in Python\n",
    "\n",
    "This Task explores the SHA-256 padding process.\n",
    "I will be implementing a function that calculates the SHA-256 padding for a given file.\n",
    "\n",
    "References:\n",
    "- SHA-256 Specification: https://en.wikipedia.org/wiki/SHA-2\n",
    "- Cryptographic Hash Functions: https://crypto.stackexchange.com/questions/22180/why-does-sha-256-use-padding\n",
    "\n"
   ]
  },
  {
   "cell_type": "markdown",
   "metadata": {},
   "source": [
    " This method \n",
    " Computes and prints the SHA-256 padding for a given file.   \n",
    "    Args:\n",
    "        file_path (str): Is the path to the input file.\n",
    "    \n",
    "    Returns:\n",
    "        None: Prints the padding in hexadecimal format."
   ]
  },
  {
   "cell_type": "code",
   "execution_count": 75,
   "metadata": {},
   "outputs": [],
   "source": [
    "import os"
   ]
  },
  {
   "cell_type": "code",
   "execution_count": 76,
   "metadata": {},
   "outputs": [],
   "source": [
    "def sha256_padding(file_path):\n",
    "   \n",
    "    # Read file contents as bytes\n",
    "    with open(file_path, 'rb') as f:\n",
    "        message = f.read()\n",
    "    \n",
    "    # Compute original message length in bits\n",
    "    message_length = len(message) * 8  # Convert bytes to bits\n",
    "    \n",
    "    # Append '1' bit (0x80 in hex)\n",
    "    padding = b'\\x80'\n",
    "    \n",
    "    # Calculate remaining bytes needed to reach the nearest 512-bit block\n",
    "    padding_length = (56 - (len(message) + 1) % 64) % 64\n",
    "    \n",
    "    # Append zero padding\n",
    "    padding += b'\\x00' * padding_length\n",
    "    \n",
    "    # Append original message length as a 64-bit big-endian integer\n",
    "    padding += message_length.to_bytes(8, 'big')\n",
    "    \n",
    "    # Print padding in hexadecimal format\n",
    "    print(\"SHA-256 Padding:\")\n",
    "    print(\" \".join(f\"{byte:02x}\" for byte in padding))"
   ]
  },
  {
   "cell_type": "markdown",
   "metadata": {},
   "source": [
    "References:\n",
    "- [SHA-2 Wikipedia](https://en.wikipedia.org/wiki/SHA-2)\n",
    "- [NIST FIPS 180-4](https://nvlpubs.nist.gov/nistpubs/FIPS/NIST.FIPS.180-4.pdf)\n",
    "- [RFC 6234: Secure Hash Algorithm](https://www.rfc-editor.org/rfc/rfc6234)"
   ]
  },
  {
   "cell_type": "markdown",
   "metadata": {},
   "source": [
    "## Testing SHA-256 Padding\n"
   ]
  },
  {
   "cell_type": "code",
   "execution_count": 77,
   "metadata": {},
   "outputs": [
    {
     "name": "stdout",
     "output_type": "stream",
     "text": [
      "SHA-256 Padding:\n",
      "80 00 00 00 00 00 00 00 00 00 00 00 00 00 00 00 00 00 00 00 00 00 00 00 00 00 00 00 00 00 00 00 00 00 00 00 00 00 00 00 00 00 00 00 00 00 00 00 00 00 00 00 00 00 00 00 00 00 00 00 18\n"
     ]
    }
   ],
   "source": [
    "#test file with \"abc\" content\n",
    "test_file = \"test_abc.txt\"\n",
    "with open(test_file, \"wb\") as f:\n",
    "    f.write(b\"abc\")\n",
    "\n",
    "#display SHA-256 padding\n",
    "sha256_padding(test_file)"
   ]
  },
  {
   "cell_type": "markdown",
   "metadata": {},
   "source": [
    "## Task 4 Prime Numbers"
   ]
  },
  {
   "cell_type": "markdown",
   "metadata": {},
   "source": [
    "# Prime Number Calculation in Python\n",
    "\n",
    "This Task explores two different algorithms to compute the first 1,000 prime numbers.\n",
    "I will implement and compare:\n",
    "1. The **Sieve of Eratosthenes** (efficient for finding many primes)\n",
    "2. A **Basic Trial Division** method (simpler but slower)\n",
    "\n",
    "References:\n",
    "- Sieve of Eratosthenes: https://en.wikipedia.org/wiki/Sieve_of_Eratosthenes\n",
    "- Prime number properties: https://primes.utm.edu/\n",
    "- Trial division method: https://en.wikipedia.org/wiki/Trial_division"
   ]
  },
  {
   "cell_type": "markdown",
   "metadata": {},
   "source": [
    "\n",
    "    Implements the Sieve of Eratosthenes to find the first n prime numbers.\n",
    "    Efficient for generating a list of primes.\n",
    "    \n",
    "    Args:\n",
    "        n (int): Number of prime numbers to generate.\n",
    "    \n",
    "    Returns:\n",
    "        list: List of the first n prime numbers.\n",
    "    \n",
    "    Reference: https://en.wikipedia.org/wiki/Sieve_of_Eratosthenes\n",
    "\n",
    "    \n"
   ]
  },
  {
   "cell_type": "code",
   "execution_count": 78,
   "metadata": {},
   "outputs": [],
   "source": [
    "import math\n",
    "\n",
    "def sieve_of_eratosthenes(n):\n",
    " \n",
    "    limit = 10000  \n",
    "    primes = []\n",
    "    sieve = [True] * (limit + 1)\n",
    "    \n",
    "    for num in range(2, limit + 1):\n",
    "        if sieve[num]:\n",
    "            primes.append(num)\n",
    "            if len(primes) == n:\n",
    "                return primes\n",
    "            for multiple in range(num * num, limit + 1, num):\n",
    "                sieve[multiple] = False\n",
    "                \n"
   ]
  },
  {
   "cell_type": "markdown",
   "metadata": {},
   "source": [
    "  Implements trial division to compute the first n prime numbers.\n",
    "    Slower than the sieve method but conceptually simpler.\n",
    "    \n",
    "    Args:\n",
    "        n (int): Number of prime numbers to generate.\n",
    "    \n",
    "    Returns:\n",
    "        list: List of the first n prime numbers.\n",
    "    \n",
    "    Reference: https://en.wikipedia.org/wiki/Trial_division"
   ]
  },
  {
   "cell_type": "code",
   "execution_count": 79,
   "metadata": {},
   "outputs": [],
   "source": [
    "def trial_division(n):\n",
    "    primes = []\n",
    "    candidate = 2\n",
    "    \n",
    "    while len(primes) < n:\n",
    "        is_prime = True\n",
    "        for prime in primes:\n",
    "            if prime > math.isqrt(candidate):\n",
    "                break\n",
    "            if candidate % prime == 0:\n",
    "                is_prime = False\n",
    "                break\n",
    "        if is_prime:\n",
    "            primes.append(candidate)\n",
    "        candidate += 1\n",
    "    \n",
    "    return primes"
   ]
  },
  {
   "cell_type": "markdown",
   "metadata": {},
   "source": [
    "\n",
    "## Testing Prime Number Generation\n",
    "Compute and compare the first 1,000 prime numbers using both methods."
   ]
  },
  {
   "cell_type": "code",
   "execution_count": 80,
   "metadata": {},
   "outputs": [],
   "source": [
    "# Compute primes using both methods\n",
    "primes_sieve = sieve_of_eratosthenes(1000)\n",
    "primes_trial = trial_division(1000)"
   ]
  },
  {
   "cell_type": "code",
   "execution_count": 81,
   "metadata": {},
   "outputs": [
    {
     "name": "stdout",
     "output_type": "stream",
     "text": [
      "Successfully generated the first 1,000 prime numbers using both methods.\n"
     ]
    }
   ],
   "source": [
    "# Verify both lists are the same\n",
    "assert primes_sieve == primes_trial, \"The algorithms produced different results!\"\n",
    "\n",
    "print(\"Successfully generated the first 1,000 prime numbers using both methods.\")"
   ]
  },
  {
   "cell_type": "markdown",
   "metadata": {},
   "source": [
    "## Task 5 Roots"
   ]
  },
  {
   "cell_type": "markdown",
   "metadata": {},
   "source": [
    "## Task 6  Proof of Work"
   ]
  },
  {
   "cell_type": "markdown",
   "metadata": {},
   "source": [
    "## Task 7 Turing Machines"
   ]
  },
  {
   "cell_type": "markdown",
   "metadata": {},
   "source": [
    "## Task 8 Computational Complexity"
   ]
  }
 ],
 "metadata": {
  "kernelspec": {
   "display_name": "Python 3",
   "language": "python",
   "name": "python3"
  },
  "language_info": {
   "codemirror_mode": {
    "name": "ipython",
    "version": 3
   },
   "file_extension": ".py",
   "mimetype": "text/x-python",
   "name": "python",
   "nbconvert_exporter": "python",
   "pygments_lexer": "ipython3",
   "version": "3.12.1"
  }
 },
 "nbformat": 4,
 "nbformat_minor": 2
}
