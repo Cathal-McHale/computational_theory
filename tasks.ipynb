{
 "cells": [
  {
   "cell_type": "markdown",
   "metadata": {},
   "source": [
    "## Task 1 Binary Representations\n",
    "# Binary Operations in Python\n",
    "\n",
    "This Jupyter Notebook explores fundamental binary operations in Python. \n",
    "We will implement functions for bitwise rotations, selection, and majority voting, \n",
    "all essential for cryptographic and low-level computing tasks.\n",
    "\n",
    "Links:\n",
    "- Bitwise operations in Python: https://realpython.com/python-bitwise-operators/\n",
    "- SHA-256 Bitwise Operations: https://en.wikipedia.org/wiki/SHA-2\n"
   ]
  },
  {
   "cell_type": "code",
   "execution_count": null,
   "metadata": {},
   "outputs": [],
   "source": [
    "# Import required libraries\n",
    "import numpy as np"
   ]
  },
  {
   "cell_type": "markdown",
   "metadata": {},
   "source": [
    "## Left Rotation (rotl)\n",
    "This function rotates the bits of a 32-bit unsigned integer to the left by `n` places.\n",
    "It ensures that the bit shifts stay within 32 bits by using a bitwise AND mask (0xFFFFFFFF).\n",
    "\n",
    "E.G:\n",
    "num = 7 (00000000000000000000000000000111 in binary)\n",
    "rotl(num, 2) -> 28 (00000000000000000000000000011100 in binary)\n",
    "\n",
    "Link: https://en.wikipedia.org/wiki/Circular_shift"
   ]
  },
  {
   "cell_type": "code",
   "execution_count": null,
   "metadata": {},
   "outputs": [],
   "source": [
    "def rotl(x, n=1):\n",
    "    #  make x is treated as a 32-bit unsigned integer\n",
    "    x = x & 0xFFFFFFFF\n",
    "    # Perform the rotation\n",
    "    return ((x << n) | (x >> (32 - n))) & 0xFFFFFFFF\n",
    "\n",
    "# Example test\n",
    "x = 0b1011  # Binary 1101 (Decimal 11)\n",
    "rotated_left = rotl(x, 1)  # Rotate left by 1 bit\n",
    "\n",
    "print(f\"Original: {bin(x)} ({x})\")\n",
    "print(f\"Rotated Left: {bin(rotated_left)} ({rotated_left})\")"
   ]
  },
  {
   "cell_type": "markdown",
   "metadata": {},
   "source": [
    "# Right Rotation (rotr)\n",
    "-This function rotates the bits of a 32-bit unsigned integer to the right by `n` places. Here's how it works:\n",
    "\n",
    "Right Shift (x >> n): Shifts the bits of x to the right by n positions. The bits that fall off the right end are lost.\n",
    "\n",
    "Left Shift (x << (32 - n)): Moves the lost rightmost bits (from the right shift) to the leftmost positions.\n",
    "\n",
    "Bitwise OR (|): Combines the results of the right shift and left shift to form the rotated number.\n",
    "\n",
    "Masking (& 0xFFFFFFFF): Ensures the result stays within 32 bits by masking out any extra bits.\n",
    "\n"
   ]
  },
  {
   "cell_type": "code",
   "execution_count": null,
   "metadata": {},
   "outputs": [],
   "source": [
    "\n",
    "def rotr(x, n=1):\n",
    "    \"\"\"Rotate the bits in a 32-bit unsigned integer to the right by n places.\"\"\"\n",
    "    n = n % 32  # Ensure n stays within a valid range (0-31)\n",
    "    return ((x >> n) | ((x << (32 - n)) & 0xFFFFFFFF))  # Keep within 32 bits\n",
    "\n",
    "# Example test\n",
    "x = 0b1011  # Binary 1101 (Decimal 11)\n",
    "rotated_right = rotr(x, 1)  # Rotate right by 1 bit\n",
    "\n",
    "print(f\"Original: {bin(x)} ({x})\")\n",
    "print(f\"Rotated Right: {bin(rotated_right)} ({rotated_right})\")"
   ]
  },
  {
   "cell_type": "markdown",
   "metadata": {},
   "source": [
    "## Choose Function (ch)\n",
    "This function implements the bitwise Choose (CH) operation used in cryptographic hash functions like SHA-256.\n",
    "It selects bits from `y` where `x` has bits set to 1 and bits from `z` where `x` has bits set to 0.\n",
    "\n",
    "Formula: `ch(x, y, z) = (x & y) ^ (~x & z)`\n",
    "\n",
    "E.G:\n",
    "x = 0b1100, y = 0b1010, z = 0b0110\n",
    "ch(x, y, z) -> 0b1010\n",
    "\n",
    "\n",
    "Reference: https://en.wikipedia.org/wiki/SHA-2"
   ]
  },
  {
   "cell_type": "code",
   "execution_count": null,
   "metadata": {},
   "outputs": [],
   "source": [
    "def ch(x, y, z):\n",
    "    \"\"\"Choose bits from y where x has 1s, and from z where x has 0s.\"\"\"\n",
    "    bit_width = max(x.bit_length(), y.bit_length(), z.bit_length())  # Auto-detect bit width\n",
    "    not_x = (~x) & ((1 << bit_width) - 1)  # Properly mask negation to correct bit width\n",
    "    return (x & y) | (not_x & z)  # Select y where x=1, z where x=0\n",
    "\n",
    "# Example values (in binary)\n",
    "x = 0b1100  # 12 in decimal\n",
    "y = 0b1010  # 10 in decimal\n",
    "z = 0b0110  # 6 in decimal\n",
    "\n",
    "# Call the function\n",
    "result = ch(x, y, z)\n",
    "\n",
    "# Print the result in binary and decimal\n",
    "print(f\"Result (Binary): {bin(result)}\")\n",
    "print(f\"Result (Decimal): {result}\")"
   ]
  },
  {
   "cell_type": "markdown",
   "metadata": {},
   "source": [
    "## Majority Function (maj)\n",
    "This function takes a majority vote of the bits in x, y, and z.\n",
    "It outputs a 1 in bit position `i` where at least two of `x, y, and z` have 1's in position `i`.\n",
    "All other output bit positions should be 0.\n",
    "\n",
    "Formula: `maj(x, y, z) = (x & y) ^ (x & z) ^ (y & z)`\n",
    "\n",
    "E.G:\n",
    "x = 0b1100, y = 0b1010, z = 0b0110\n",
    "maj(x, y, z) -> 0b1110\n",
    "\n",
    "Reference: https://en.wikipedia.org/wiki/Majority_function"
   ]
  },
  {
   "cell_type": "code",
   "execution_count": null,
   "metadata": {},
   "outputs": [],
   "source": [
    "def maj(x, y, z):\n",
    "    # Ensure x, y, z are treated as 32-bit unsigned integers\n",
    "    x = x & 0xFFFFFFFF\n",
    "    y = y & 0xFFFFFFFF\n",
    "    z = z & 0xFFFFFFFF\n",
    "    # Perform the majority vote\n",
    "    return (x & y) | (x & z) | (y & z)\n",
    "\n",
    "# Example usage:\n",
    "x = 0b1010\n",
    "y = 0b1100\n",
    "z = 0b0110\n",
    "result = maj(x, y, z)\n",
    "print(f\"maj({bin(x)}, {bin(y)}, {bin(z)}) = {bin(result)}\")"
   ]
  },
  {
   "cell_type": "markdown",
   "metadata": {},
   "source": [
    "## Main Function\n",
    "This function demonstrates the implemented bitwise operations with example cases."
   ]
  },
  {
   "cell_type": "code",
   "execution_count": null,
   "metadata": {},
   "outputs": [],
   "source": [
    "if __name__ == \"__main__\":\n",
    "    # Example inputs\n",
    "    x = 0b10101010101010101010101010101010  # 32-bit alternating bits\n",
    "    y = 0b11001100110011001100110011001100\n",
    "    z = 0b11110000111100001111000011110000\n"
   ]
  },
  {
   "cell_type": "code",
   "execution_count": null,
   "metadata": {},
   "outputs": [],
   "source": [
    "print(\"rotl(x, 1):\", bin(rotl(x, 1)))\n",
    "print(\"rotr(x, 1):\", bin(rotr(x, 1)))\n",
    "\n",
    "# Choose and majority functions\n",
    "print(\"ch(x, y, z):\", bin(ch(x, y, z)))\n",
    "print(\"maj(x, y, z):\", bin(maj(x, y, z)))"
   ]
  },
  {
   "cell_type": "code",
   "execution_count": null,
   "metadata": {},
   "outputs": [],
   "source": [
    "\n",
    "# Edge case: All bits set to 0\n",
    "x = 0b00000000000000000000000000000000\n",
    "y = 0b00000000000000000000000000000000\n",
    "z = 0b00000000000000000000000000000000\n",
    "\n",
    "print(\"\\nrotl(0s, 1):\", bin(rotl(x, 1)))\n",
    "print(\"rotr(0s, 1):\", bin(rotr(x, 1)))\n",
    "print(\"ch(0s, 0s, 0s):\", bin(ch(x, y, z)))\n",
    "print(\"maj(0s, 0s, 0s):\", bin(maj(x, y, z)))"
   ]
  },
  {
   "cell_type": "code",
   "execution_count": null,
   "metadata": {},
   "outputs": [],
   "source": [
    "# Edge case: All bits set to 1\n",
    "x = 0xFFFFFFFF  # 32-bit all ones\n",
    "y = 0xFFFFFFFF\n",
    "z = 0xFFFFFFFF\n",
    "\n",
    "print(\"\\nrotl(1s, 1):\", bin(rotl(x, 1)))\n",
    "print(\"rotr(1s, 1):\", bin(rotr(x, 1)))\n",
    "print(\"ch(1s, 1s, 1s):\", bin(ch(x, y, z)))\n",
    "print(\"maj(1s, 1s, 1s):\", bin(maj(x, y, z)))"
   ]
  },
  {
   "cell_type": "code",
   "execution_count": null,
   "metadata": {},
   "outputs": [],
   "source": [
    "    # Edge case: x, y, and z have alternating patterns\n",
    "x = 0b10101010101010101010101010101010\n",
    "y = 0b01010101010101010101010101010101\n",
    "z = 0b11110000111100001111000011110000\n",
    "\n",
    "print(\"\\nch(x, y, z):\", bin(ch(x, y, z)))\n",
    "print(\"maj(x, y, z):\", bin(maj(x, y, z)))"
   ]
  },
  {
   "cell_type": "markdown",
   "metadata": {},
   "source": [
    "## Task 2 Hash Functions"
   ]
  },
  {
   "cell_type": "markdown",
   "metadata": {},
   "source": [
    "\n",
    "## Hash Functions in Python\n",
    "\n",
    "This Task explores hash functions, specifically implementing and testing a hash function inspired by Brian Kernighan and Dennis Ritchie's C code. \n",
    "We are to convert the given C function to Python,\n",
    "**************************************************************\n",
    "unsigned hash(char *s) {\n",
    "    unsigned hashval;\n",
    "    for (hashval = 0; *s != '\\0'; s++)\n",
    "        hashval = *s + 31 * hashval;\n",
    "    return hashval % 101;\n",
    "} \n",
    "**************************************************************\n",
    "test it with different inputs, and analyse the choice of values 31 and 101.\n",
    "\n",
    "References:\n",
    "- Hash functions in C and Python: https://realpython.com/python-hash-functions/\n",
    "- Explanation of modular hashing: https://en.wikipedia.org/wiki/Hash_function\n",
    "\n",
    "\n"
   ]
  },
  {
   "cell_type": "markdown",
   "metadata": {},
   "source": [
    "## Hash Function Implementation\n",
    "This function replicates the C-style hash function in Python.\n",
    "It iterates through a given string, updating the hash value using multiplication and addition.\n",
    "\n",
    "Formula:\n",
    "hashval = ord(char) + 31 * hashval\n",
    "hashval = hashval % 101  # Ensure values fit within 101 buckets\n",
    "\n",
    "\n",
    "Reference: https://en.wikipedia.org/wiki/Hash_function"
   ]
  },
  {
   "cell_type": "code",
   "execution_count": null,
   "metadata": {},
   "outputs": [],
   "source": [
    "def hash_kr(s):\n",
    "    \"\"\"\n",
    "    Hash function from \"The C Programming Language\" by Kernighan and Ritchie.\n",
    "    Converts a string into a hash value using the algorithm:\n",
    "    hashval = *s + 31 * hashval, and returns hashval % 101.\n",
    "    \"\"\"\n",
    "    hashval = 0\n",
    "    for char in s:\n",
    "        hashval = ord(char) + 31 * hashval\n",
    "    return hashval % 101"
   ]
  },
  {
   "cell_type": "markdown",
   "metadata": {},
   "source": [
    "## Testing the Hash Function"
   ]
  },
  {
   "cell_type": "code",
   "execution_count": null,
   "metadata": {},
   "outputs": [],
   "source": [
    "def main():\n",
    "    # Test cases\n",
    "    test_strings = [\n",
    "        \"hello\",\n",
    "        \"world\",\n",
    "        \"python\",\n",
    "        \"hash\",\n",
    "        \"function\",\n",
    "        \"Kernighan\",\n",
    "        \"Ritchie\",\n",
    "    ]\n",
    "\n",
    "    for s in test_strings:\n",
    "        hash_value = hash_kr(s)\n",
    "        print(f\"Hash of '{s}': {hash_value}\")\n",
    "\n",
    "# Run the main function\n",
    "if __name__ == \"__main__\":\n",
    "    main()"
   ]
  },
  {
   "cell_type": "markdown",
   "metadata": {},
   "source": [
    "## Why Use 31 and 101?\n",
    "\n",
    "### Why 31?\n",
    "\n",
    "- 31 is a prime number. Prime numbers are often used in hash functions because they reduce the likelihood of collisions (two different inputs producing the same hash value).\n",
    "\n",
    "- 31 is also a Mersenne prime (a prime number of the form \n",
    "2\n",
    "n\n",
    "−\n",
    "1\n",
    "2 \n",
    "n\n",
    " −1), which makes multiplication efficient on many processors. Specifically, \n",
    "31\n",
    "=\n",
    "2\n",
    "5\n",
    "−\n",
    "1\n",
    "31=2 \n",
    "5\n",
    " −1, so multiplying by 31 can be optimized as a shift and subtraction:\n",
    "\n",
    "\n",
    "***31 * hashval = (hashval << 5) - hashval***\n",
    "\n",
    "- This property makes the hash function computationally efficient.\n",
    "\n",
    "### Why 101?\n",
    "\n",
    "101 is also a prime number. Using a prime number for the modulo operation helps distribute hash values more evenly across the range of possible outputs.\n",
    "\n",
    "The choice of 101 determines the size of the hash table (or the range of hash values). A larger prime number reduces the likelihood of collisions but increases the size of the hash table.\n",
    "Reference: \n",
    "https://en.wikipedia.org/wiki/Rabin%E2%80%93Karp_algorithm\n",
    "\n",
    "\n",
    "- The C Programming Language, 2nd Edition:\thttps://www.amazon.com/Programming-Language-2nd-Brian-Kernighan/dp/0131103628\n",
    "\n",
    "- The Art of Computer Programming, Volume 3\thttps://www.amazon.com/Art-Computer-Programming-Sorting-Searching/dp/0201896850\n",
    "- Effective Java\thttps://www.amazon.com/Effective-Java-Joshua-Bloch/dp/0134685997\n",
    "- Introduction to Algorithms\thttps://www.amazon.com/Introduction-Algorithms-3rd-MIT-Press/dp/0262033844\n",
    "- Wikipedia - \"Mersenne Prime\"\thttps://en.wikipedia.org/wiki/Mersenne_prime\n",
    "- Algorithms by Sedgewick and Wayne\thttps://www.amazon.com/Algorithms-4th-Robert-Sedgewick/dp/032157351X\n",
    "- Stack Overflow - \"Why use 31 in hashCode?\"\thttps://stackoverflow.com/questions/299304/why-does-javas-hashcode-in-string-use-31-as-a-multiplier\n",
    "- GeeksforGeeks - \"Introduction to Hashing\"\thttps://www.geeksforgeeks.org/hashing-set-1-introduction/\n"
   ]
  },
  {
   "cell_type": "markdown",
   "metadata": {},
   "source": [
    "##  Task 3 SHA256"
   ]
  },
  {
   "cell_type": "markdown",
   "metadata": {},
   "source": [
    "## SHA-256 Padding in Python\n",
    "\n",
    "This Task explores the SHA-256 padding process.\n",
    "I will be implementing a function that calculates the SHA-256 padding for a given file.\n",
    "\n",
    "References:\n",
    "- SHA-256 Specification: https://en.wikipedia.org/wiki/SHA-2\n",
    "- Cryptographic Hash Functions: https://crypto.stackexchange.com/questions/22180/why-does-sha-256-use-padding\n",
    "\n"
   ]
  },
  {
   "cell_type": "markdown",
   "metadata": {},
   "source": [
    " This method \n",
    " Computes and prints the SHA-256 padding for a given file.   \n",
    "    Args:\n",
    "        file_path (str): Is the path to the input file.\n",
    "    \n",
    "    Returns:\n",
    "        None: Prints the padding in hexadecimal format."
   ]
  },
  {
   "cell_type": "code",
   "execution_count": null,
   "metadata": {},
   "outputs": [],
   "source": [
    "import os"
   ]
  },
  {
   "cell_type": "code",
   "execution_count": null,
   "metadata": {},
   "outputs": [],
   "source": [
    "def sha256_padding(file_path):\n",
    "    \"\"\"\n",
    "    Calculate the SHA-256 padding for a given file.\n",
    "    Prints the padding in hex format.\n",
    "    \"\"\"\n",
    "    # Read the file content\n",
    "    with open(file_path, \"rb\") as f:\n",
    "        message = f.read()\n",
    "\n",
    "    # Calculate the original message length in bits\n",
    "    original_length_bits = len(message) * 8\n",
    "\n",
    "\n",
    "    # Step 1: Append a single '1' bit\n",
    "    padded_message = bytearray(message)  # Convert to bytearray for easy manipulation\n",
    "    padded_message.append(0x80)  # Append '1' bit followed by 7 '0' bits (0x80 = 10000000)\n",
    "\n",
    "\n",
    "      # Step 2: Append '0' bits until the length is congruent to 448 mod 512\n",
    "    # Calculate the number of '0' bits to append\n",
    "    padding_length = (448 - (original_length_bits + 8) % 512) % 512\n",
    "    padded_message.extend([0] * (padding_length // 8))\n",
    "\n",
    "    # Step 3: Append the original length as a 64-bit big-endian integer\n",
    "    padded_message.extend(original_length_bits.to_bytes(8, byteorder=\"big\"))\n",
    "    # Extract the padding (everything after the original message)\n",
    "    padding = padded_message[len(message):]\n",
    " \n",
    "    # Print the padding in hex format\n",
    "    print(\"Padding (in hex):\")\n",
    "    for i, byte in enumerate(padding):\n",
    "        print(f\"{byte:02x}\", end=\" \")\n",
    "        if (i + 1) % 16 == 0:  # Print 16 bytes per line\n",
    "            print()\n",
    "    print()"
   ]
  },
  {
   "cell_type": "code",
   "execution_count": null,
   "metadata": {},
   "outputs": [],
   "source": [
    "\n",
    "# Example usage\n",
    "if __name__ == \"__main__\":\n",
    "    file_path = \"test_abc.txt\"  \n",
    "    sha256_padding(file_path)"
   ]
  },
  {
   "cell_type": "markdown",
   "metadata": {},
   "source": [
    "References:\n",
    "- [SHA-2 Wikipedia](https://en.wikipedia.org/wiki/SHA-2)\n",
    "- [NIST FIPS 180-4](https://nvlpubs.nist.gov/nistpubs/FIPS/NIST.FIPS.180-4.pdf)\n",
    "- [RFC 6234: Secure Hash Algorithm](https://www.rfc-editor.org/rfc/rfc6234)"
   ]
  },
  {
   "cell_type": "markdown",
   "metadata": {},
   "source": [
    "## Testing SHA-256 Padding\n"
   ]
  },
  {
   "cell_type": "code",
   "execution_count": null,
   "metadata": {},
   "outputs": [],
   "source": [
    "#test file with \"abc\" content\n",
    "test_file = \"test_abc.txt\"\n",
    "with open(test_file, \"wb\") as f:\n",
    "    f.write(b\"abc\")\n",
    "\n",
    "#display SHA-256 padding\n",
    "sha256_padding(test_file)"
   ]
  },
  {
   "cell_type": "markdown",
   "metadata": {},
   "source": [
    "## Task 4 Prime Numbers"
   ]
  },
  {
   "cell_type": "markdown",
   "metadata": {},
   "source": [
    "## Prime Number Calculation in Python\n",
    "\n",
    "This Task explores two different algorithms to compute the first 1,000 prime numbers.\n",
    "I will implement and compare:\n",
    "1. The **Sieve of Eratosthenes** (efficient for finding many primes)\n",
    "2. A **Basic Trial Division** method (simpler but slower)\n",
    "\n",
    "References:\n",
    "- Sieve of Eratosthenes: https://en.wikipedia.org/wiki/Sieve_of_Eratosthenes\n",
    "- Prime number properties: https://primes.utm.edu/\n",
    "- Trial division method: https://en.wikipedia.org/wiki/Trial_division"
   ]
  },
  {
   "cell_type": "markdown",
   "metadata": {},
   "source": [
    "\n",
    "    Implements the Sieve of Eratosthenes to find the first n prime numbers.\n",
    "    This algorithm is efficient for generating a list of primes by iteratively marking the multiples of each prime number starting from 2.\n",
    "    \n",
    "    Args:\n",
    "        n (int): Number of prime numbers to generate.\n",
    "    \n",
    "    Returns:\n",
    "        list: List of the first n prime numbers.\n",
    "    \n",
    "    Reference: https://en.wikipedia.org/wiki/Sieve_of_Eratosthenes\n",
    "\n",
    "    \n"
   ]
  },
  {
   "cell_type": "code",
   "execution_count": null,
   "metadata": {},
   "outputs": [],
   "source": [
    "import math\n",
    "\n",
    "def sieve_of_eratosthenes(n):\n",
    "    \"\"\"\n",
    "    Implements the Sieve of Eratosthenes to find the first n prime numbers.\n",
    "    Efficient for generating a list of primes.\n",
    "\n",
    "    Args:\n",
    "        n (int): Number of prime numbers to generate.\n",
    "\n",
    "    Returns:\n",
    "        list: List of the first n prime numbers.\n",
    "\n",
    "    Reference: https://en.wikipedia.org/wiki/Sieve_of_Eratosthenes\n",
    "    \"\"\"\n",
    "    limit = 10000  # Upper bound for finding primes\n",
    "    primes = []\n",
    "    sieve = [True] * (limit + 1)\n",
    "    \n",
    "    for num in range(2, limit + 1):\n",
    "        if sieve[num]:\n",
    "            primes.append(num)\n",
    "            if len(primes) == n:\n",
    "                return primes\n",
    "            for multiple in range(num * num, limit + 1, num):\n",
    "                sieve[multiple] = False"
   ]
  },
  {
   "cell_type": "markdown",
   "metadata": {},
   "source": [
    "## Trial Division\n",
    "- Implements the Trial Division method to find the first n prime numbers. \n",
    "- This algorithm checks each candidate number for divisibility by all previously found primes up to its square root."
   ]
  },
  {
   "cell_type": "code",
   "execution_count": null,
   "metadata": {},
   "outputs": [],
   "source": [
    "def trial_division(n):\n",
    "    \"\"\"\n",
    "    Implements the Trial Division method to find the first n prime numbers.\n",
    "    Checks each candidate number for divisibility by all previously found primes.\n",
    "\n",
    "    Args:\n",
    "        n (int): Number of prime numbers to generate.\n",
    "\n",
    "    Returns:\n",
    "        list: List of the first n prime numbers.\n",
    "\n",
    "    Reference: https://en.wikipedia.org/wiki/Trial_division\n",
    "    \"\"\"\n",
    "    primes = []\n",
    "    candidate = 2\n",
    "    \n",
    "    while len(primes) < n:\n",
    "        is_prime = True\n",
    "        for prime in primes:\n",
    "            if prime > math.isqrt(candidate):\n",
    "                break\n",
    "            if candidate % prime == 0:\n",
    "                is_prime = False\n",
    "                break\n",
    "        if is_prime:\n",
    "            primes.append(candidate)\n",
    "        candidate += 1\n",
    "    \n",
    "    return primes"
   ]
  },
  {
   "cell_type": "markdown",
   "metadata": {},
   "source": [
    "\n",
    "## Testing Prime Number Generation\n",
    "Compute and compare the first 1,000 prime numbers using both methods."
   ]
  },
  {
   "cell_type": "code",
   "execution_count": null,
   "metadata": {},
   "outputs": [],
   "source": [
    "# Compute primes using both methods\n",
    "primes_sieve = sieve_of_eratosthenes(1000)\n",
    "primes_trial = trial_division(1000)"
   ]
  },
  {
   "cell_type": "code",
   "execution_count": null,
   "metadata": {},
   "outputs": [],
   "source": [
    "# Verify both lists are the same\n",
    "assert primes_sieve == primes_trial, \"The algorithms produced different results!\"\n",
    "\n",
    "print(\"Successfully generated the first 100 prime numbers using both methods.\")\n",
    "print(\"Sieve of Eratosthenes:\", primes_sieve)\n",
    "print(\"Trial Division:\", primes_trial)"
   ]
  },
  {
   "cell_type": "markdown",
   "metadata": {},
   "source": [
    "# Task 5: Computing Fractional Parts of Square Roots\n",
    "\n",
    "This Task calculates the first 32 bits of the fractional part of the square roots of the first 100 prime numbers. These values are useful in cryptographic functions like SHA-256.\n",
    "\n",
    "References:\n",
    "- Prime Numbers: https://primes.utm.edu/\n",
    "- Floating-Point Representation: https://en.wikipedia.org/wiki/IEEE_754\n",
    "- SHA-2 Constants: https://en.wikipedia.org/wiki/SHA-2"
   ]
  },
  {
   "cell_type": "code",
   "execution_count": null,
   "metadata": {},
   "outputs": [],
   "source": [
    "import math\n",
    "import numpy as np\n",
    "def first_n_primes(n):\n",
    "    primes = []\n",
    "    candidate = 2\n",
    "    while len(primes) < n:\n",
    "        is_prime = all(candidate % p != 0 for p in primes if p * p <= candidate)\n",
    "        if is_prime:\n",
    "            primes.append(candidate)\n",
    "        candidate += 1\n",
    "    return primes\n"
   ]
  },
  {
   "cell_type": "markdown",
   "metadata": {},
   "source": [
    "\n",
    "    Computes the first `bit_length` bits of the fractional part of the square root for a given list of prime numbers.\n",
    "    \n",
    "    Args:\n",
    "        primes (list): List of prime numbers.\n",
    "        bit_length (int): Number of bits to extract from the fractional part.\n",
    "    \n",
    "    Returns:\n",
    "        list: List of integers representing the extracted bits.\n",
    "    "
   ]
  },
  {
   "cell_type": "code",
   "execution_count": null,
   "metadata": {},
   "outputs": [],
   "source": [
    "def fractional_sqrt_bits(primes, bit_length=32):\n",
    "    results = []\n",
    "    for prime in primes:\n",
    "        sqrt_fractional = math.sqrt(prime) % 1  # Get fractional part of square root\n",
    "        extracted_bits = int(sqrt_fractional * (2**bit_length))  # Extract first `bit_length` bits\n",
    "        results.append(extracted_bits)\n",
    "    return results"
   ]
  },
  {
   "cell_type": "code",
   "execution_count": null,
   "metadata": {},
   "outputs": [],
   "source": [
    "\n",
    "# Compute the first 100 prime numbers\n",
    "primes_100 = first_n_primes(100)\n",
    "\n",
    "# Compute fractional bits\n",
    "fractional_bits = fractional_sqrt_bits(primes_100)\n",
    "\n",
    "# Display results\n",
    "for prime, bits in zip(primes_100, fractional_bits):\n",
    "    print(f\"Prime: {prime}, Fractional Bits (32-bit): {bits:032b}\")"
   ]
  },
  {
   "cell_type": "markdown",
   "metadata": {},
   "source": [
    "## Task 6  Proof of Work"
   ]
  },
  {
   "cell_type": "markdown",
   "metadata": {},
   "source": [
    "Find the words in the English language with the greatest number of leading 0 bits in their SHA256 hash digest. The task involves:\n",
    "\n",
    "1. Iterating through a list of English words.\n",
    "\n",
    "2. Computing the SHA256 hash of each word.\n",
    "\n",
    "3. Counting the number of leading 0 bits in the hash.\n",
    "\n",
    "4. Identifying the words with the maximum number of leading 0 bits.\n",
    " \n",
    "5. Providing proof that the words are in at least one English dictionary."
   ]
  },
  {
   "cell_type": "markdown",
   "metadata": {},
   "source": [
    "# Step 1: Load a List of English Words\n",
    "Use the nltk.corpus.words corpus to access a list of English words."
   ]
  },
  {
   "cell_type": "code",
   "execution_count": 1,
   "metadata": {},
   "outputs": [
    {
     "name": "stderr",
     "output_type": "stream",
     "text": [
      "[nltk_data] Downloading package words to /home/codespace/nltk_data...\n",
      "[nltk_data]   Unzipping corpora/words.zip.\n"
     ]
    },
    {
     "name": "stdout",
     "output_type": "stream",
     "text": [
      "Total words: 236736\n"
     ]
    }
   ],
   "source": [
    "import nltk\n",
    "from nltk.corpus import words\n",
    "\n",
    "# Download the words corpus if not already downloaded\n",
    "nltk.download('words')\n",
    "\n",
    "# Load the list of English words\n",
    "english_words = words.words()\n",
    "print(f\"Total words: {len(english_words)}\")"
   ]
  },
  {
   "cell_type": "markdown",
   "metadata": {},
   "source": [
    "# Step 2: Compute SHA256 Hash and Count Leading 0 Bits\n",
    "For each word, compute its SHA256 hash and count the number of leading 0 bits."
   ]
  },
  {
   "cell_type": "code",
   "execution_count": 2,
   "metadata": {},
   "outputs": [
    {
     "name": "stdout",
     "output_type": "stream",
     "text": [
      "Word(s) with the most leading 0 bits: ['guilefulness', 'mismatchment']\n",
      "Number of leading 0 bits: 16\n"
     ]
    }
   ],
   "source": [
    "import hashlib\n",
    "\n",
    "def count_leading_zero_bits(hash_hex):\n",
    "    \"\"\"\n",
    "    Count the number of leading 0 bits in a SHA256 hash.\n",
    "\n",
    "    Args:\n",
    "        hash_hex (str): SHA256 hash in hexadecimal format.\n",
    "\n",
    "    Returns:\n",
    "        int: Number of leading 0 bits.\n",
    "    \"\"\"\n",
    "    hash_bin = bin(int(hash_hex, 16))[2:].zfill(256)  # Convert to 256-bit binary\n",
    "    return len(hash_bin) - len(hash_bin.lstrip('0'))\n",
    "\n",
    "# Find the word(s) with the most leading 0 bits\n",
    "max_zero_bits = 0\n",
    "best_words = []\n",
    "\n",
    "for word in english_words:\n",
    "    hash_hex = hashlib.sha256(word.encode()).hexdigest()\n",
    "    zero_bits = count_leading_zero_bits(hash_hex)\n",
    "    \n",
    "    if zero_bits > max_zero_bits:\n",
    "        max_zero_bits = zero_bits\n",
    "        best_words = [word]\n",
    "    elif zero_bits == max_zero_bits:\n",
    "        best_words.append(word)\n",
    "\n",
    "print(f\"Word(s) with the most leading 0 bits: {best_words}\")\n",
    "print(f\"Number of leading 0 bits: {max_zero_bits}\")"
   ]
  },
  {
   "cell_type": "markdown",
   "metadata": {},
   "source": [
    "# Step 3: Verify Words in a Dictionary\n",
    "To prove that the words are in an English dictionary, we can check their presence in the nltk.corpus.words corpus."
   ]
  },
  {
   "cell_type": "code",
   "execution_count": 3,
   "metadata": {},
   "outputs": [
    {
     "name": "stdout",
     "output_type": "stream",
     "text": [
      "'guilefulness' is in the English dictionary.\n",
      "'mismatchment' is in the English dictionary.\n"
     ]
    }
   ],
   "source": [
    "# Verify that the best word(s) are in the dictionary\n",
    "for word in best_words:\n",
    "    if word in english_words:\n",
    "        print(f\"'{word}' is in the English dictionary.\")\n",
    "    else:\n",
    "        print(f\"'{word}' is NOT in the English dictionary.\")"
   ]
  },
  {
   "cell_type": "markdown",
   "metadata": {},
   "source": [
    "# References (For readme later)\n",
    "SHA256 Hashing:\n",
    "\n",
    "Name: Python Documentation - hashlib.sha256\n",
    "\n",
    "Link: https://docs.python.org/3/library/hashlib.html\n",
    "\n",
    "NLTK Words Corpus:\n",
    "\n",
    "Name: NLTK Documentation - nltk.corpus.words\n",
    "\n",
    "Link: https://www.nltk.org/api/nltk.corpus.html\n",
    "\n",
    "Proof of Work:\n",
    "\n",
    "Name: Wikipedia - \"Proof of Work\"\n",
    "\n",
    "Link: https://en.wikipedia.org/wiki/Proof_of_work"
   ]
  },
  {
   "cell_type": "markdown",
   "metadata": {},
   "source": [
    "## Task 7 Turing Machines"
   ]
  },
  {
   "cell_type": "markdown",
   "metadata": {},
   "source": [
    "## Task 8 Computational Complexity"
   ]
  }
 ],
 "metadata": {
  "kernelspec": {
   "display_name": "Python 3",
   "language": "python",
   "name": "python3"
  },
  "language_info": {
   "codemirror_mode": {
    "name": "ipython",
    "version": 3
   },
   "file_extension": ".py",
   "mimetype": "text/x-python",
   "name": "python",
   "nbconvert_exporter": "python",
   "pygments_lexer": "ipython3",
   "version": "3.12.1"
  }
 },
 "nbformat": 4,
 "nbformat_minor": 2
}
