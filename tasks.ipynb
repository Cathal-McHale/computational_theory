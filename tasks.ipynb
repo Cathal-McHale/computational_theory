{
 "cells": [
  {
   "cell_type": "markdown",
   "metadata": {},
   "source": [
    "## Task 1 Binary Representations\n",
    "# Binary Operations in Python\n",
    "\n",
    "This Jupyter Notebook explores fundamental binary operations in Python. \n",
    "We will implement functions for bitwise rotations, selection, and majority voting, \n",
    "all essential for cryptographic and low-level computing tasks.\n",
    "\n",
    "Links:\n",
    "- Bitwise operations in Python: https://realpython.com/python-bitwise-operators/\n",
    "- SHA-256 Bitwise Operations: https://en.wikipedia.org/wiki/SHA-2\n"
   ]
  },
  {
   "cell_type": "code",
   "execution_count": 10,
   "metadata": {},
   "outputs": [],
   "source": [
    "# Import required libraries\n",
    "import numpy as np"
   ]
  },
  {
   "cell_type": "markdown",
   "metadata": {},
   "source": [
    "## Left Rotation (rotl)\n",
    "This function rotates the bits of a 32-bit unsigned integer to the left by `n` places.\n",
    "It ensures that the bit shifts stay within 32 bits by using a bitwise AND mask (0xFFFFFFFF).\n",
    "\n",
    "E.G:\n",
    "num = 7 (00000000000000000000000000000111 in binary)\n",
    "rotl(num, 2) -> 28 (00000000000000000000000000011100 in binary)\n",
    "\n",
    "Link: https://en.wikipedia.org/wiki/Circular_shift"
   ]
  },
  {
   "cell_type": "code",
   "execution_count": 11,
   "metadata": {},
   "outputs": [],
   "source": [
    "def rotl(x, n=1):\n",
    "    #Rotate the bits of a 32-bit unsigned integer to the left by n places.\n",
    "    n = n % 32  # Ensure n is within a valid range\n",
    "    return ((x << n) & 0xFFFFFFFF) | (x >> (32 - n))"
   ]
  },
  {
   "cell_type": "markdown",
   "metadata": {},
   "source": [
    "# Right Rotation (rotr)This function rotates the bits of a 32-bit unsigned integer to the right by `n` places.\n",
    "\n",
    "E.G:\n",
    "num = 7 (00000000000000000000000000000111 in binary)\n",
    "rotr(num, 2) -> 3221225472 (11000000000000000000000000000000 in binary)"
   ]
  },
  {
   "cell_type": "code",
   "execution_count": 12,
   "metadata": {},
   "outputs": [],
   "source": [
    "def rotr(x, n=1):\n",
    "    n = n % 32  # make sure n is within a valid range\n",
    "    return ((x >> n) | (x << (32 - n))) & 0xFFFFFFFF"
   ]
  },
  {
   "cell_type": "markdown",
   "metadata": {},
   "source": [
    "## Binary Representation (bin_representation)\n",
    "This function returns a 32-bit binary representation of a number as a string.\n",
    "\n",
    "E.G:\n",
    "num = 7\n",
    "bin_representation(num) -> \"00000000000000000000000000000111\"\n",
    "\n",
    "\n",
    "Reference: https://realpython.com/python-bitwise-operators/"
   ]
  },
  {
   "cell_type": "code",
   "execution_count": 13,
   "metadata": {},
   "outputs": [],
   "source": [
    "def bin_representation(n):\n",
    "#Return the 32-bit binary representation of a number.\n",
    "    binary_str = \"\"\n",
    "    for i in range(31, -1, -1):\n",
    "        binary_str += \"1\" if n & (1 << i) else \"0\"\n",
    "    return binary_str\n"
   ]
  },
  {
   "cell_type": "markdown",
   "metadata": {},
   "source": [
    "## Choose Function (ch)\n",
    "This function implements the bitwise Choose (CH) operation used in cryptographic hash functions like SHA-256.\n",
    "It selects bits from `y` where `x` has bits set to 1 and bits from `z` where `x` has bits set to 0.\n",
    "\n",
    "Formula: `ch(x, y, z) = (x & y) ^ (~x & z)`\n",
    "\n",
    "E.G:\n",
    "x = 0b1100, y = 0b1010, z = 0b0110\n",
    "ch(x, y, z) -> 0b1010\n",
    "\n",
    "\n",
    "Reference: https://en.wikipedia.org/wiki/SHA-2"
   ]
  },
  {
   "cell_type": "code",
   "execution_count": 14,
   "metadata": {},
   "outputs": [],
   "source": [
    "def ch(x, y, z):\n",
    "    return (x & y) ^ (~x & z)\n",
    "# Example values (in binary)\n",
    "x = 0b1100  # 12 in decimal\n",
    "y = 0b1010  # 10 in decimal\n",
    "z = 0b0110  # 6 in decimal\n",
    "\n",
    "\n"
   ]
  },
  {
   "cell_type": "code",
   "execution_count": null,
   "metadata": {},
   "outputs": [],
   "source": [
    "# Testing and displaying results\n",
    "\n",
    "# Call the function\n",
    "result = ch(x, y, z)\n",
    "\n",
    "# Print the result in binary and decimal\n",
    "print(f\"Result (Binary): {bin(result)}\")\n",
    "print(f\"Result (Decimal): {result}\")"
   ]
  },
  {
   "cell_type": "markdown",
   "metadata": {},
   "source": [
    "## Majority Function (maj)\n",
    "This function takes a majority vote of the bits in x, y, and z.\n",
    "It outputs a 1 in bit position `i` where at least two of `x, y, and z` have 1's in position `i`.\n",
    "All other output bit positions should be 0.\n",
    "\n",
    "Formula: `maj(x, y, z) = (x & y) ^ (x & z) ^ (y & z)`\n",
    "\n",
    "E.G:\n",
    "x = 0b1100, y = 0b1010, z = 0b0110\n",
    "maj(x, y, z) -> 0b1110\n",
    "\n",
    "Reference: https://en.wikipedia.org/wiki/Majority_function"
   ]
  },
  {
   "cell_type": "code",
   "execution_count": 16,
   "metadata": {},
   "outputs": [],
   "source": [
    "def maj(x, y, z):\n",
    "    return (x & y) ^ (x & z) ^ (y & z)"
   ]
  },
  {
   "cell_type": "markdown",
   "metadata": {},
   "source": [
    "## Main Function\n",
    "This function demonstrates the implemented bitwise operations with example cases."
   ]
  },
  {
   "cell_type": "code",
   "execution_count": null,
   "metadata": {},
   "outputs": [],
   "source": [
    "def main():\n",
    "    num = 7  # number\n",
    "    rotated = rotl(num, 2)  # Rotate left by 2 bits\n",
    "    print(f\"Original: {bin_representation(num)}\")\n",
    "    print(f\"Rotated : {bin_representation(rotated)}\")\n",
    "\n",
    "    # num = 4\n",
    "    # rotated = rotl(num, 3)  # Rotate left by 3 bits\n",
    "    # print(f\"Original: {bin_representation(num)}\")\n",
    "    # print(f\"Rotated : {bin_representation(rotated)}\")\n",
    "    \n",
    "    # Demonstrate rotr\n",
    "    rotated_right = rotr(num, 3)\n",
    "    print(f\"Rotated Right : {bin_representation(rotated_right)}\")\n",
    "    \n",
    "    # Demonstrate ch function\n",
    "    x, y, z = 0b1100, 0b1010, 0b0110\n",
    "    print(f\"CH(x, y, z): {bin_representation(ch(x, y, z))}\")\n",
    "    \n",
    "    # Demonstrate maj function\n",
    "    print(f\"MAJ(x, y, z): {bin_representation(maj(x, y, z))}\")\n",
    "\n",
    "if __name__ == \"__main__\":\n",
    "    main()"
   ]
  },
  {
   "cell_type": "code",
   "execution_count": null,
   "metadata": {},
   "outputs": [],
   "source": []
  },
  {
   "cell_type": "markdown",
   "metadata": {},
   "source": [
    "## Task 2 Hash Functions"
   ]
  },
  {
   "cell_type": "markdown",
   "metadata": {},
   "source": [
    "\n",
    "# Hash Functions in Python\n",
    "\n",
    "This Task explores hash functions, specifically implementing and testing a hash function inspired by Brian Kernighan and Dennis Ritchie's C code. \n",
    "We are to convert the given C function to Python,\n",
    "**************************************************************\n",
    "unsigned hash(char *s) {\n",
    "    unsigned hashval;\n",
    "    for (hashval = 0; *s != '\\0'; s++)\n",
    "        hashval = *s + 31 * hashval;\n",
    "    return hashval % 101;\n",
    "} \n",
    "**************************************************************\n",
    "test it with different inputs, and analyse the choice of values 31 and 101.\n",
    "\n",
    "References:\n",
    "- Hash functions in C and Python: https://realpython.com/python-hash-functions/\n",
    "- Explanation of modular hashing: https://en.wikipedia.org/wiki/Hash_function\n",
    "\n",
    "\n"
   ]
  },
  {
   "cell_type": "markdown",
   "metadata": {},
   "source": [
    "## Hash Function Implementation\n",
    "This function replicates the C-style hash function in Python.\n",
    "It iterates through a given string, updating the hash value using multiplication and addition.\n",
    "\n",
    "Formula:\n",
    "hashval = ord(char) + 31 * hashval\n",
    "hashval = hashval % 101  # Ensure values fit within 101 buckets\n",
    "\n",
    "\n",
    "Reference: https://en.wikipedia.org/wiki/Hash_function"
   ]
  },
  {
   "cell_type": "code",
   "execution_count": 18,
   "metadata": {},
   "outputs": [],
   "source": [
    "def hash_function(s: str) -> int:\n",
    "    hashval = 0\n",
    "    for char in s:\n",
    "        hashval = ord(char) + 31 * hashval\n",
    "    return hashval % 101"
   ]
  },
  {
   "cell_type": "markdown",
   "metadata": {},
   "source": [
    "## Testing the Hash Function"
   ]
  },
  {
   "cell_type": "code",
   "execution_count": null,
   "metadata": {},
   "outputs": [],
   "source": [
    "# Test cases\n",
    "test_strings = [\"hello\", \"world\", \"hash\", \"function\", \"python\"]\n",
    "\n",
    "# Compute hashes\n",
    "hash_results = {s: hash_function(s) for s in test_strings}\n",
    "\n",
    "# Display results\n",
    "for key, value in hash_results.items():\n",
    "    print(f\"Hash('{key}') = {value}\")\n"
   ]
  },
  {
   "cell_type": "markdown",
   "metadata": {},
   "source": [
    "## Why Use 31 and 101?\n",
    "\n",
    "- 31 is a prime number, reducing the risk of collisions by spreading hash values more uniformly.\n",
    "- 101 is also a prime number, ensuring a good distribution when applying the modulus operation.\n",
    "- Using multiplication and modulus makes it an efficient rolling hash function, commonly used in text-based hashing algorithms like Rabin-Karp.\n",
    "\n",
    "Reference: https://en.wikipedia.org/wiki/Rabin%E2%80%93Karp_algorithm\n"
   ]
  },
  {
   "cell_type": "markdown",
   "metadata": {},
   "source": [
    "##  Task 3 SHA256"
   ]
  },
  {
   "cell_type": "markdown",
   "metadata": {},
   "source": [
    "## Task 4 Prime Numbers"
   ]
  },
  {
   "cell_type": "markdown",
   "metadata": {},
   "source": [
    "## Task 5 Roots"
   ]
  },
  {
   "cell_type": "markdown",
   "metadata": {},
   "source": [
    "## Task 6  Proof of Work"
   ]
  },
  {
   "cell_type": "markdown",
   "metadata": {},
   "source": [
    "## Task 7 Turing Machines"
   ]
  },
  {
   "cell_type": "markdown",
   "metadata": {},
   "source": [
    "## Task 8 Computational Complexity"
   ]
  }
 ],
 "metadata": {
  "kernelspec": {
   "display_name": "Python 3",
   "language": "python",
   "name": "python3"
  },
  "language_info": {
   "codemirror_mode": {
    "name": "ipython",
    "version": 3
   },
   "file_extension": ".py",
   "mimetype": "text/x-python",
   "name": "python",
   "nbconvert_exporter": "python",
   "pygments_lexer": "ipython3",
   "version": "3.12.1"
  }
 },
 "nbformat": 4,
 "nbformat_minor": 2
}
